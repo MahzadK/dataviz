{
 "cells": [
  {
   "cell_type": "code",
   "execution_count": 3,
   "metadata": {
    "collapsed": true
   },
   "outputs": [],
   "source": [
    "%matplotlib inline\n",
    "import pandas as pd\n",
    "import os\n",
    "import os.path\n",
    "import itertools\n",
    "import matplotlib.pyplot as plt\n",
    "import math\n",
    "import pprint\n",
    "import pprint as pp\n",
    "import numpy as np"
   ]
  },
  {
   "cell_type": "markdown",
   "metadata": {},
   "source": [
    "## 1.  LOAD DATA"
   ]
  },
  {
   "cell_type": "code",
   "execution_count": 8,
   "metadata": {
    "collapsed": false
   },
   "outputs": [],
   "source": [
    "DATA_PATH = os.path.abspath(os.path.join(os.pardir, \"data/gapminder/fichiers_csv\"))\n",
    "DATA_PATH2 = os.path.abspath(os.path.join(os.pardir, \"data\"))\n",
    "Child_death_FILE = \"teen-fertility.csv\"\n",
    "GINI_FILE = \"gini-complete.csv\"\n",
    "#Year_in_school = \"Years in school men 25-34.csv\"\"\n",
    "#FERTILITY_FILE = \"teen-fertility.csv\"\n",
    "COUNTRIES_FILE = \"3-countries.csv\"\n",
    "#fertility_df = pd.read_csv(os.path.join(DATA_PATH, FERTILITY_FILE), sep=\";\")\n",
    "gini_df = pd.read_csv(os.path.join(DATA_PATH, GINI_FILE),sep=\",\")\n",
    "\n",
    "child_death_df = pd.read_csv(os.path.join(DATA_PATH, Child_death_FILE), sep=\";\",encoding = 'ISO-8859-1')\n",
    "countries_df = pd.read_csv(os.path.join(DATA_PATH2, COUNTRIES_FILE), sep=\";\", usecols = ['Country (en)', \"Continent\"])\n",
    "countries_df = countries_df.rename(columns ={\"Country (en)\" :\"countries\"})\n",
    "path_scatter = os.path.join(os.pardir, \"scatter\")"
   ]
  },
  {
   "cell_type": "code",
   "execution_count": 5,
   "metadata": {
    "collapsed": false
   },
   "outputs": [],
   "source": [
    "df_intermediate = pd.merge(gini_df, child_death_df,  how='inner', on=['countries'])\n",
    "\n"
   ]
  },
  {
   "cell_type": "code",
   "execution_count": 6,
   "metadata": {
    "collapsed": false
   },
   "outputs": [],
   "source": [
    "df_intermediate.dropna(axis=0,inplace=True)"
   ]
  },
  {
   "cell_type": "code",
   "execution_count": 7,
   "metadata": {
    "collapsed": false
   },
   "outputs": [],
   "source": [
    "df_final = pd.merge(df_intermediate, countries_df,  how='left', on=['countries'])\n"
   ]
  },
  {
   "cell_type": "code",
   "execution_count": 77,
   "metadata": {
    "collapsed": false
   },
   "outputs": [],
   "source": [
    "\n",
    "#df_final.to_csv(path_scatter+\"teen-fertility\", sep=',', encoding='utf-8')\n",
    "df_final.to_csv(path_scatter+'/teen-fertility.csv',sep=',', encoding='utf-8')"
   ]
  },
  {
   "cell_type": "code",
   "execution_count": 9,
   "metadata": {
    "collapsed": false
   },
   "outputs": [
    {
     "data": {
      "text/plain": [
       "'../scatter'"
      ]
     },
     "execution_count": 9,
     "metadata": {},
     "output_type": "execute_result"
    }
   ],
   "source": [
    "path_scatter "
   ]
  },
  {
   "cell_type": "code",
   "execution_count": 10,
   "metadata": {
    "collapsed": false
   },
   "outputs": [
    {
     "data": {
      "text/plain": [
       "'/Users/khouiyadam/Documents/IGR204 Dataviz/dataviz/data/gapminder/fichiers_csv'"
      ]
     },
     "execution_count": 10,
     "metadata": {},
     "output_type": "execute_result"
    }
   ],
   "source": [
    "DATA_PATH"
   ]
  },
  {
   "cell_type": "code",
   "execution_count": 18,
   "metadata": {
    "collapsed": true
   },
   "outputs": [],
   "source": [
    "def genrate_csv(filename):\n",
    "    child_death_df = pd.read_csv(os.path.join(DATA_PATH, Child_death_FILE), sep=\";\",encoding = 'ISO-8859-1')\n",
    "    df_intermediate = pd.merge(gini_df, child_death_df,  how='inner', on=['countries'])\n",
    "    df_intermediate.dropna(axis=0,inplace=True)\n",
    "    df_final = pd.merge(df_intermediate, countries_df,  how='left', on=['countries'])\n",
    "    df_final.to_csv(path_scatter+'/'+filename,sep=',', encoding='utf-8')"
   ]
  },
  {
   "cell_type": "code",
   "execution_count": null,
   "metadata": {
    "collapsed": true
   },
   "outputs": [],
   "source": [
    "genrate_csv(\"Child out of school primary.csv\")"
   ]
  },
  {
   "cell_type": "code",
   "execution_count": 19,
   "metadata": {
    "collapsed": false
   },
   "outputs": [],
   "source": [
    "from os import listdir\n",
    "from os.path import isfile, join\n",
    "onlyfiles = [f for f in listdir(DATA_PATH) if isfile(join(DATA_PATH, f))]"
   ]
  },
  {
   "cell_type": "code",
   "execution_count": 20,
   "metadata": {
    "collapsed": false
   },
   "outputs": [
    {
     "data": {
      "text/plain": [
       "19"
      ]
     },
     "execution_count": 20,
     "metadata": {},
     "output_type": "execute_result"
    }
   ],
   "source": [
    "len (onlyfiles)"
   ]
  },
  {
   "cell_type": "code",
   "execution_count": 21,
   "metadata": {
    "collapsed": false
   },
   "outputs": [
    {
     "name": "stdout",
     "output_type": "stream",
     "text": [
      "CPU times: user 157 ms, sys: 11.6 ms, total: 168 ms\n",
      "Wall time: 170 ms\n"
     ]
    }
   ],
   "source": [
    "%%time\n",
    "for file_name in onlyfiles :\n",
    "    genrate_csv(file_name)"
   ]
  },
  {
   "cell_type": "code",
   "execution_count": null,
   "metadata": {
    "collapsed": true
   },
   "outputs": [],
   "source": []
  }
 ],
 "metadata": {
  "anaconda-cloud": {},
  "kernelspec": {
   "display_name": "Python 3",
   "language": "python",
   "name": "python3"
  },
  "language_info": {
   "codemirror_mode": {
    "name": "ipython",
    "version": 3
   },
   "file_extension": ".py",
   "mimetype": "text/x-python",
   "name": "python",
   "nbconvert_exporter": "python",
   "pygments_lexer": "ipython3",
   "version": "3.6.0"
  }
 },
 "nbformat": 4,
 "nbformat_minor": 1
}
