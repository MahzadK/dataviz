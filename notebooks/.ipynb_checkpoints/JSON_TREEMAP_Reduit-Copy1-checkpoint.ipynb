{
 "cells": [
  {
   "cell_type": "code",
   "execution_count": 1,
   "metadata": {
    "collapsed": true
   },
   "outputs": [],
   "source": [
    "%matplotlib inline\n",
    "import pandas as pd\n",
    "import os\n",
    "import os.path\n",
    "import itertools\n",
    "import matplotlib.pyplot as plt\n",
    "import math\n",
    "import pprint\n",
    "import pprint as pp\n",
    "import numpy as np"
   ]
  },
  {
   "cell_type": "markdown",
   "metadata": {},
   "source": [
    "## 1.  LOAD DATA"
   ]
  },
  {
   "cell_type": "code",
   "execution_count": 58,
   "metadata": {
    "collapsed": false
   },
   "outputs": [],
   "source": [
    "DATA_PATH = os.path.abspath(os.path.join(os.pardir, \"data/gapminder/fichiers_csv\"))\n",
    "DATA_PATH2 = os.path.abspath(os.path.join(os.pardir, \"data\"))\n",
    "Child_death_FILE = \"teen-fertility.csv\"\n",
    "GINI_FILE = \"gini-complete.csv\"\n",
    "#Year_in_school = \"Years in school men 25-34.csv\"\"\n",
    "#FERTILITY_FILE = \"teen-fertility.csv\"\n",
    "COUNTRIES_FILE = \"3-countries.csv\"\n",
    "#fertility_df = pd.read_csv(os.path.join(DATA_PATH, FERTILITY_FILE), sep=\";\")\n",
    "gini_df = pd.read_csv(os.path.join(DATA_PATH, GINI_FILE),sep=\",\")\n",
    "\n",
    "child_death_df = pd.read_csv(os.path.join(DATA_PATH, Child_death_FILE), sep=\";\",encoding = 'ISO-8859-1')\n",
    "countries_df = pd.read_csv(os.path.join(DATA_PATH2, COUNTRIES_FILE), sep=\";\", usecols = ['Country (en)', \"Continent\"])\n",
    "countries_df = countries_df.rename(columns ={\"Country (en)\" :\"countries\"})"
   ]
  },
  {
   "cell_type": "code",
   "execution_count": 63,
   "metadata": {
    "collapsed": false
   },
   "outputs": [],
   "source": [
    "df_intermediate = pd.merge(gini_df, child_death_df,  how='inner', on=['countries'])\n",
    "\n"
   ]
  },
  {
   "cell_type": "code",
   "execution_count": 50,
   "metadata": {
    "collapsed": false
   },
   "outputs": [],
   "source": [
    "df_intermediate.dropna(axis=0,inplace=True)"
   ]
  },
  {
   "cell_type": "code",
   "execution_count": 68,
   "metadata": {
    "collapsed": false
   },
   "outputs": [],
   "source": [
    "df_final = pd.merge(df_intermediate, countries_df,  how='left', on=['countries'])\n"
   ]
  },
  {
   "cell_type": "code",
   "execution_count": 77,
   "metadata": {
    "collapsed": false
   },
   "outputs": [],
   "source": [
    "path_scatter = os.path.join(os.pardir, \"scatter\")\n",
    "#df_final.to_csv(path_scatter+\"teen-fertility\", sep=',', encoding='utf-8')\n",
    "df_final.to_csv(path_scatter+'/teen-fertility.csv',sep=',', encoding='utf-8')"
   ]
  },
  {
   "cell_type": "code",
   "execution_count": null,
   "metadata": {
    "collapsed": true
   },
   "outputs": [],
   "source": [
    "def genrate_csv(filename):\n",
    "    child_death_df = pd.read_csv(os.path.join(DATA_PATH, Child_death_FILE), sep=\";\",encoding = 'ISO-8859-1')\n",
    "    df_intermediate = pd.merge(gini_df, child_death_df,  how='inner', on=['countries'])\n",
    "    df_intermediate.dropna(axis=0,inplace=True)\n",
    "    df_final = pd.merge(df_intermediate, countries_df,  how='left', on=['countries'])\n",
    "    df_final.to_csv(path_scatter+'/'+filename,sep=',', encoding='utf-8')"
   ]
  },
  {
   "cell_type": "code",
   "execution_count": null,
   "metadata": {
    "collapsed": true
   },
   "outputs": [],
   "source": [
    "genrate_csv(\"Child out of school primary.csv\")"
   ]
  }
 ],
 "metadata": {
  "anaconda-cloud": {},
  "kernelspec": {
   "display_name": "Python 3",
   "language": "python",
   "name": "python3"
  },
  "language_info": {
   "codemirror_mode": {
    "name": "ipython",
    "version": 3
   },
   "file_extension": ".py",
   "mimetype": "text/x-python",
   "name": "python",
   "nbconvert_exporter": "python",
   "pygments_lexer": "ipython3",
   "version": "3.6.0"
  }
 },
 "nbformat": 4,
 "nbformat_minor": 1
}
