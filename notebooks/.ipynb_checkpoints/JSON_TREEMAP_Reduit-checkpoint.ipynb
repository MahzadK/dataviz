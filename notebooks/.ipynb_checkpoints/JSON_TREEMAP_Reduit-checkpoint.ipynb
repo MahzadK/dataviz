{
 "cells": [
  {
   "cell_type": "code",
   "execution_count": 20,
   "metadata": {
    "collapsed": true
   },
   "outputs": [],
   "source": [
    "%matplotlib inline\n",
    "import pandas as pd\n",
    "import os\n",
    "import os.path\n",
    "import itertools\n",
    "import matplotlib.pyplot as plt\n",
    "import math\n",
    "import pprint\n",
    "import pprint as pp\n",
    "import numpy as np"
   ]
  },
  {
   "cell_type": "markdown",
   "metadata": {},
   "source": [
    "## 1.  LOAD DATA"
   ]
  },
  {
   "cell_type": "code",
   "execution_count": 2,
   "metadata": {
    "collapsed": false
   },
   "outputs": [],
   "source": [
    "DATA_PATH = os.path.abspath(os.path.join(os.pardir, \"data/gapminder/fichiers_csv\"))\n",
    "DATA_PATH2 = os.path.abspath(os.path.join(os.pardir, \"data\"))\n",
    "Child_death_FILE = \"teen-fertility.csv\"\n",
    "GINI_FILE = \"gini-complete.csv\"\n",
    "#Year_in_school = \"Years in school men 25-34.csv\"\"\n",
    "#FERTILITY_FILE = \"teen-fertility.csv\"\n",
    "COUNTRIES_FILE = \"3-countries.csv\"\n",
    "#fertility_df = pd.read_csv(os.path.join(DATA_PATH, FERTILITY_FILE), sep=\";\")\n",
    "gini_df = pd.read_csv(os.path.join(DATA_PATH, GINI_FILE),sep=\",\")\n",
    "\n",
    "child_death_df = pd.read_csv(os.path.join(DATA_PATH, Child_death_FILE), sep=\";\",encoding = 'ISO-8859-1')\n",
    "countries_df = pd.read_csv(os.path.join(DATA_PATH2, COUNTRIES_FILE), sep=\";\", usecols = ['Country (en)', \"Continent\"])"
   ]
  },
  {
   "cell_type": "code",
   "execution_count": 3,
   "metadata": {
    "collapsed": false
   },
   "outputs": [
    {
     "data": {
      "text/html": [
       "<div>\n",
       "<table border=\"1\" class=\"dataframe\">\n",
       "  <thead>\n",
       "    <tr style=\"text-align: right;\">\n",
       "      <th></th>\n",
       "      <th>countries</th>\n",
       "      <th>Teen-fertility</th>\n",
       "    </tr>\n",
       "  </thead>\n",
       "  <tbody>\n",
       "    <tr>\n",
       "      <th>0</th>\n",
       "      <td>Abkhazia</td>\n",
       "      <td>NaN</td>\n",
       "    </tr>\n",
       "    <tr>\n",
       "      <th>1</th>\n",
       "      <td>Afghanistan</td>\n",
       "      <td>115.0</td>\n",
       "    </tr>\n",
       "    <tr>\n",
       "      <th>2</th>\n",
       "      <td>Akrotiri and Dhekelia</td>\n",
       "      <td>NaN</td>\n",
       "    </tr>\n",
       "    <tr>\n",
       "      <th>3</th>\n",
       "      <td>Albania</td>\n",
       "      <td>11.2</td>\n",
       "    </tr>\n",
       "    <tr>\n",
       "      <th>4</th>\n",
       "      <td>Algeria</td>\n",
       "      <td>7.0</td>\n",
       "    </tr>\n",
       "  </tbody>\n",
       "</table>\n",
       "</div>"
      ],
      "text/plain": [
       "               countries  Teen-fertility\n",
       "0               Abkhazia             NaN\n",
       "1            Afghanistan           115.0\n",
       "2  Akrotiri and Dhekelia             NaN\n",
       "3                Albania            11.2\n",
       "4                Algeria             7.0"
      ]
     },
     "execution_count": 3,
     "metadata": {},
     "output_type": "execute_result"
    }
   ],
   "source": [
    "child_death_df.head()"
   ]
  },
  {
   "cell_type": "code",
   "execution_count": 4,
   "metadata": {
    "collapsed": false
   },
   "outputs": [
    {
     "data": {
      "text/html": [
       "<div>\n",
       "<table border=\"1\" class=\"dataframe\">\n",
       "  <thead>\n",
       "    <tr style=\"text-align: right;\">\n",
       "      <th></th>\n",
       "      <th>countries</th>\n",
       "      <th>Continent</th>\n",
       "    </tr>\n",
       "  </thead>\n",
       "  <tbody>\n",
       "    <tr>\n",
       "      <th>0</th>\n",
       "      <td>Afghanistan</td>\n",
       "      <td>Asia</td>\n",
       "    </tr>\n",
       "    <tr>\n",
       "      <th>1</th>\n",
       "      <td>Egypt</td>\n",
       "      <td>Africa</td>\n",
       "    </tr>\n",
       "    <tr>\n",
       "      <th>2</th>\n",
       "      <td>Åland Islands</td>\n",
       "      <td>Europe</td>\n",
       "    </tr>\n",
       "  </tbody>\n",
       "</table>\n",
       "</div>"
      ],
      "text/plain": [
       "       countries Continent\n",
       "0    Afghanistan      Asia\n",
       "1          Egypt    Africa\n",
       "2  Åland Islands    Europe"
      ]
     },
     "execution_count": 4,
     "metadata": {},
     "output_type": "execute_result"
    }
   ],
   "source": [
    "countries_df = countries_df.rename(columns ={\"Country (en)\" :\"countries\"})\n",
    "countries_df.head(3)"
   ]
  },
  {
   "cell_type": "code",
   "execution_count": 5,
   "metadata": {
    "collapsed": false
   },
   "outputs": [],
   "source": [
    "#fertility_df.head(3)"
   ]
  },
  {
   "cell_type": "code",
   "execution_count": 6,
   "metadata": {
    "collapsed": false
   },
   "outputs": [
    {
     "data": {
      "text/html": [
       "<div>\n",
       "<table border=\"1\" class=\"dataframe\">\n",
       "  <thead>\n",
       "    <tr style=\"text-align: right;\">\n",
       "      <th></th>\n",
       "      <th>countries</th>\n",
       "      <th>Gini</th>\n",
       "    </tr>\n",
       "  </thead>\n",
       "  <tbody>\n",
       "    <tr>\n",
       "      <th>0</th>\n",
       "      <td>Lesotho</td>\n",
       "      <td>63.2</td>\n",
       "    </tr>\n",
       "    <tr>\n",
       "      <th>1</th>\n",
       "      <td>South_Africa</td>\n",
       "      <td>62.5</td>\n",
       "    </tr>\n",
       "    <tr>\n",
       "      <th>2</th>\n",
       "      <td>Central_African_Republic</td>\n",
       "      <td>61.3</td>\n",
       "    </tr>\n",
       "  </tbody>\n",
       "</table>\n",
       "</div>"
      ],
      "text/plain": [
       "                  countries  Gini\n",
       "0                   Lesotho  63.2\n",
       "1              South_Africa  62.5\n",
       "2  Central_African_Republic  61.3"
      ]
     },
     "execution_count": 6,
     "metadata": {},
     "output_type": "execute_result"
    }
   ],
   "source": [
    "gini_df.head(3)"
   ]
  },
  {
   "cell_type": "code",
   "execution_count": 7,
   "metadata": {
    "collapsed": false
   },
   "outputs": [],
   "source": [
    "#child_death_df.head(3)\n",
    "#child_death_df = child_death_df.rename(columns ={\"Roads, paved (% of total roads)\" :\"Roads paved\"})"
   ]
  },
  {
   "cell_type": "code",
   "execution_count": 8,
   "metadata": {
    "collapsed": false
   },
   "outputs": [],
   "source": [
    "df_intermediate = pd.merge(gini_df, child_death_df,  how='inner', on=['countries'])\n",
    "\n"
   ]
  },
  {
   "cell_type": "code",
   "execution_count": 9,
   "metadata": {
    "collapsed": false
   },
   "outputs": [],
   "source": [
    "df_intermediate.dropna(axis=0,inplace=True)"
   ]
  },
  {
   "cell_type": "code",
   "execution_count": 10,
   "metadata": {
    "collapsed": false
   },
   "outputs": [],
   "source": [
    "df_final = pd.merge(df_intermediate, countries_df,  how='left', on=['countries'])\n"
   ]
  },
  {
   "cell_type": "code",
   "execution_count": null,
   "metadata": {
    "collapsed": false
   },
   "outputs": [],
   "source": []
  },
  {
   "cell_type": "code",
   "execution_count": 11,
   "metadata": {
    "collapsed": false
   },
   "outputs": [],
   "source": [
    "path_scatter = os.path.join(os.pardir, \"scatter\")\n",
    "#df_final.to_csv(path_scatter+\"teen-fertility\", sep=',', encoding='utf-8')\n",
    "df_final.to_csv(path_scatter+'/teen-fertility.csv',sep=',', encoding='utf-8')"
   ]
  },
  {
   "cell_type": "code",
   "execution_count": 12,
   "metadata": {
    "collapsed": false
   },
   "outputs": [
    {
     "data": {
      "text/plain": [
       "'../scatter'"
      ]
     },
     "execution_count": 12,
     "metadata": {},
     "output_type": "execute_result"
    }
   ],
   "source": [
    "path_scatter"
   ]
  },
  {
   "cell_type": "code",
   "execution_count": 13,
   "metadata": {
    "collapsed": false
   },
   "outputs": [
    {
     "data": {
      "text/html": [
       "<div>\n",
       "<table border=\"1\" class=\"dataframe\">\n",
       "  <thead>\n",
       "    <tr style=\"text-align: right;\">\n",
       "      <th></th>\n",
       "      <th>Continent</th>\n",
       "      <th>countries</th>\n",
       "      <th>Gini</th>\n",
       "      <th>Teen-fertility</th>\n",
       "    </tr>\n",
       "  </thead>\n",
       "  <tbody>\n",
       "    <tr>\n",
       "      <th>0</th>\n",
       "      <td>Africa</td>\n",
       "      <td>Lesotho</td>\n",
       "      <td>63.2</td>\n",
       "      <td>71.0</td>\n",
       "    </tr>\n",
       "    <tr>\n",
       "      <th>1</th>\n",
       "      <td>North America</td>\n",
       "      <td>Haiti</td>\n",
       "      <td>60.8</td>\n",
       "      <td>45.0</td>\n",
       "    </tr>\n",
       "    <tr>\n",
       "      <th>2</th>\n",
       "      <td>Africa</td>\n",
       "      <td>Botswana</td>\n",
       "      <td>60.5</td>\n",
       "      <td>50.0</td>\n",
       "    </tr>\n",
       "  </tbody>\n",
       "</table>\n",
       "</div>"
      ],
      "text/plain": [
       "       Continent countries  Gini  Teen-fertility\n",
       "0         Africa   Lesotho  63.2            71.0\n",
       "1  North America     Haiti  60.8            45.0\n",
       "2         Africa  Botswana  60.5            50.0"
      ]
     },
     "execution_count": 13,
     "metadata": {},
     "output_type": "execute_result"
    }
   ],
   "source": [
    "df_final_cols = df_final.columns.tolist()\n",
    "df_final_cols = df_final_cols[-1:] + df_final_cols[:-1]\n",
    "df_final = df_final[df_final_cols]\n",
    "df_final.head(3)\n"
   ]
  },
  {
   "cell_type": "code",
   "execution_count": 21,
   "metadata": {
    "collapsed": false
   },
   "outputs": [],
   "source": [
    "import json\n",
    "from json import dumps\n",
    "\n",
    "json_dict = {}\n",
    "json_dict[\"name\"] = \"Json_file\"\n",
    "json_dict['children'] = []\n",
    "for grp, grp_data in df_final.groupby('Continent'):\n",
    "    #print ('grp_data',grp_data)\n",
    "    grp_dict = {}\n",
    "    #print (grp)\n",
    "    grp_dict['name'] = grp\n",
    "    grp_dict['children'] = []\n",
    "    for cat, cat_data in grp_data.groupby('countries'):\n",
    "        #print (\"cat\",cat)\n",
    "        #print (\"cat_data\",cat_data)\n",
    "        \n",
    "        cat_dict = {}\n",
    "         \n",
    "        cat_dict['name'] = cat\n",
    "        \n",
    "        cat_dict['children'] = []\n",
    "        #cat_dict['name'] = cat\n",
    "        for p, p_data in cat_data.groupby('Gini'):\n",
    "            cat_dict['gini'] =p//10\n",
    "            p_data = p_data.drop(['Continent', 'countries'], axis=1).set_index('Gini')\n",
    "            \n",
    "            for d in p_data.to_dict(orient='records'):\n",
    "                for key, value in d.items():\n",
    "                    d_prime ={}\n",
    "                    d_prime [\"name\"] =key\n",
    "                    d_prime [\"size\"] =value\n",
    "                    cat_dict['children'].append(d_prime)\n",
    "        grp_dict['children'].append(cat_dict)\n",
    "    json_dict['children'].append(grp_dict)\n",
    "json_out = dumps(json_dict)\n",
    "parsed = json.loads(json_out)    "
   ]
  },
  {
   "cell_type": "code",
   "execution_count": 15,
   "metadata": {
    "collapsed": false
   },
   "outputs": [
    {
     "data": {
      "text/plain": [
       "'{\"name\": \"Json_file\", \"children\": [{\"name\": \"Africa\", \"children\": [{\"name\": \"Algeria\", \"children\": [{\"name\": \"Teen-fertility\", \"size\": 7.0}], \"gini\": 3.0}, {\"name\": \"Benin\", \"children\": [{\"name\": \"Teen-fertility\", \"size\": 109.0}], \"gini\": 3.0}, {\"name\": \"Botswana\", \"children\": [{\"name\": \"Teen-fertility\", \"size\": 50.0}], \"gini\": 6.0}, {\"name\": \"Burundi\", \"children\": [{\"name\": \"Teen-fertility\", \"size\": 19.0}], \"gini\": 4.0}, {\"name\": \"Cameroon\", \"children\": [{\"name\": \"Teen-fertility\", \"size\": 125.0}], \"gini\": 4.0}, {\"name\": \"Chad\", \"children\": [{\"name\": \"Teen-fertility\", \"size\": 159.0}], \"gini\": 4.0}, {\"name\": \"Djibouti\", \"children\": [{\"name\": \"Teen-fertility\", \"size\": 22.0}], \"gini\": 4.0}, {\"name\": \"Egypt\", \"children\": [{\"name\": \"Teen-fertility\", \"size\": 45.0}], \"gini\": 3.0}, {\"name\": \"Ethiopia\", \"children\": [{\"name\": \"Teen-fertility\", \"size\": 68.0}], \"gini\": 3.0}, {\"name\": \"Gambia\", \"children\": [{\"name\": \"Teen-fertility\", \"size\": 75.0}], \"gini\": 5.0}, {\"name\": \"Ghana\", \"children\": [{\"name\": \"Teen-fertility\", \"size\": 69.0}], \"gini\": 4.0}, {\"name\": \"Guinea\", \"children\": [{\"name\": \"Teen-fertility\", \"size\": 153.0}], \"gini\": 3.0}, {\"name\": \"Kenya\", \"children\": [{\"name\": \"Teen-fertility\", \"size\": 100.0}], \"gini\": 4.0}, {\"name\": \"Lesotho\", \"children\": [{\"name\": \"Teen-fertility\", \"size\": 71.0}], \"gini\": 6.0}, {\"name\": \"Madagascar\", \"children\": [{\"name\": \"Teen-fertility\", \"size\": 132.0}], \"gini\": 4.0}, {\"name\": \"Malawi\", \"children\": [{\"name\": \"Teen-fertility\", \"size\": 116.0}], \"gini\": 3.0}, {\"name\": \"Mali\", \"children\": [{\"name\": \"Teen-fertility\", \"size\": 183.0}], \"gini\": 4.0}, {\"name\": \"Mauritania\", \"children\": [{\"name\": \"Teen-fertility\", \"size\": 78.0}], \"gini\": 3.0}, {\"name\": \"Mauritius\", \"children\": [{\"name\": \"Teen-fertility\", \"size\": 35.0}], \"gini\": 3.0}, {\"name\": \"Morocco\", \"children\": [{\"name\": \"Teen-fertility\", \"size\": 14.0}], \"gini\": 4.0}, {\"name\": \"Mozambique\", \"children\": [{\"name\": \"Teen-fertility\", \"size\": 144.0}], \"gini\": 4.0}, {\"name\": \"Namibia\", \"children\": [{\"name\": \"Teen-fertility\", \"size\": 70.0}], \"gini\": 5.0}, {\"name\": \"Niger\", \"children\": [{\"name\": \"Teen-fertility\", \"size\": 204.0}], \"gini\": 3.0}, {\"name\": \"Nigeria\", \"children\": [{\"name\": \"Teen-fertility\", \"size\": 117.0}], \"gini\": 4.0}, {\"name\": \"Rwanda\", \"children\": [{\"name\": \"Teen-fertility\", \"size\": 38.0}], \"gini\": 4.0}, {\"name\": \"Senegal\", \"children\": [{\"name\": \"Teen-fertility\", \"size\": 103.0}], \"gini\": 4.0}, {\"name\": \"Swaziland\", \"children\": [{\"name\": \"Teen-fertility\", \"size\": 81.0}], \"gini\": 5.0}, {\"name\": \"Tanzania\", \"children\": [{\"name\": \"Teen-fertility\", \"size\": 130.0}], \"gini\": 3.0}, {\"name\": \"Tunisia\", \"children\": [{\"name\": \"Teen-fertility\", \"size\": 5.0}], \"gini\": 4.0}, {\"name\": \"Uganda\", \"children\": [{\"name\": \"Teen-fertility\", \"size\": 145.0}], \"gini\": 3.0}, {\"name\": \"Zambia\", \"children\": [{\"name\": \"Teen-fertility\", \"size\": 145.0}], \"gini\": 5.0}, {\"name\": \"Zimbabwe\", \"children\": [{\"name\": \"Teen-fertility\", \"size\": 62.0}], \"gini\": 5.0}]}, {\"name\": \"Asia\", \"children\": [{\"name\": \"Armenia\", \"children\": [{\"name\": \"Teen-fertility\", \"size\": 27.2}], \"gini\": 3.0}, {\"name\": \"Azerbaijan\", \"children\": [{\"name\": \"Teen-fertility\", \"size\": 33.0}], \"gini\": 3.0}, {\"name\": \"Bangladesh\", \"children\": [{\"name\": \"Teen-fertility\", \"size\": 77.0}], \"gini\": 3.0}, {\"name\": \"Bhutan\", \"children\": [{\"name\": \"Teen-fertility\", \"size\": 49.0}], \"gini\": 3.0}, {\"name\": \"Cambodia\", \"children\": [{\"name\": \"Teen-fertility\", \"size\": 40.0}], \"gini\": 3.0}, {\"name\": \"China\", \"children\": [{\"name\": \"Teen-fertility\", \"size\": 9.0}], \"gini\": 4.0}, {\"name\": \"Cyprus\", \"children\": [{\"name\": \"Teen-fertility\", \"size\": 6.0}], \"gini\": 3.0}, {\"name\": \"Georgia\", \"children\": [{\"name\": \"Teen-fertility\", \"size\": 44.0}], \"gini\": 4.0}, {\"name\": \"India\", \"children\": [{\"name\": \"Teen-fertility\", \"size\": 84.0}], \"gini\": 3.0}, {\"name\": \"Indonesia\", \"children\": [{\"name\": \"Teen-fertility\", \"size\": 45.0}], \"gini\": 3.0}, {\"name\": \"Iran\", \"children\": [{\"name\": \"Teen-fertility\", \"size\": 29.0}], \"gini\": 4.0}, {\"name\": \"Israel\", \"children\": [{\"name\": \"Teen-fertility\", \"size\": 14.0}], \"gini\": 4.0}, {\"name\": \"Japan\", \"children\": [{\"name\": \"Teen-fertility\", \"size\": 5.0}], \"gini\": 3.0}, {\"name\": \"Jordan\", \"children\": [{\"name\": \"Teen-fertility\", \"size\": 26.0}], \"gini\": 3.0}, {\"name\": \"Kazakhstan\", \"children\": [{\"name\": \"Teen-fertility\", \"size\": 29.0}], \"gini\": 2.0}, {\"name\": \"Kyrgyzstan\", \"children\": [{\"name\": \"Teen-fertility\", \"size\": 34.0}], \"gini\": 3.0}, {\"name\": \"Laos\", \"children\": [{\"name\": \"Teen-fertility\", \"size\": 37.0}], \"gini\": 3.0}, {\"name\": \"Malaysia\", \"children\": [{\"name\": \"Teen-fertility\", \"size\": 13.0}], \"gini\": 4.0}, {\"name\": \"Maldives\", \"children\": [{\"name\": \"Teen-fertility\", \"size\": 12.0}], \"gini\": 3.0}, {\"name\": \"Mongolia\", \"children\": [{\"name\": \"Teen-fertility\", \"size\": 20.0}], \"gini\": 3.0}, {\"name\": \"Nepal\", \"children\": [{\"name\": \"Teen-fertility\", \"size\": 100.0}], \"gini\": 3.0}, {\"name\": \"Pakistan\", \"children\": [{\"name\": \"Teen-fertility\", \"size\": 31.0}], \"gini\": 2.0}, {\"name\": \"Philippines\", \"children\": [{\"name\": \"Teen-fertility\", \"size\": 53.0}], \"gini\": 4.0}, {\"name\": \"Singapore\", \"children\": [{\"name\": \"Teen-fertility\", \"size\": 5.0}], \"gini\": 4.0}, {\"name\": \"Taiwan\", \"children\": [{\"name\": \"Teen-fertility\", \"size\": 5.0}], \"gini\": 3.0}, {\"name\": \"Tajikistan\", \"children\": [{\"name\": \"Teen-fertility\", \"size\": 28.0}], \"gini\": 3.0}, {\"name\": \"Thailand\", \"children\": [{\"name\": \"Teen-fertility\", \"size\": 42.0}], \"gini\": 4.0}, {\"name\": \"Timor-Leste\", \"children\": [{\"name\": \"Teen-fertility\", \"size\": 63.0}], \"gini\": 3.0}, {\"name\": \"Turkey\", \"children\": [{\"name\": \"Teen-fertility\", \"size\": 37.0}], \"gini\": 4.0}, {\"name\": \"Turkmenistan\", \"children\": [{\"name\": \"Teen-fertility\", \"size\": 19.0}], \"gini\": 4.0}, {\"name\": \"Uzbekistan\", \"children\": [{\"name\": \"Teen-fertility\", \"size\": 14.0}], \"gini\": 3.0}, {\"name\": \"Vietnam\", \"children\": [{\"name\": \"Teen-fertility\", \"size\": 26.0}], \"gini\": 3.0}]}, {\"name\": \"Australia\", \"children\": [{\"name\": \"Australia\", \"children\": [{\"name\": \"Teen-fertility\", \"size\": 16.8}], \"gini\": 3.0}]}, {\"name\": \"Central America\", \"children\": [{\"name\": \"Guatemala\", \"children\": [{\"name\": \"Teen-fertility\", \"size\": 106.0}], \"gini\": 5.0}, {\"name\": \"Honduras\", \"children\": [{\"name\": \"Teen-fertility\", \"size\": 92.0}], \"gini\": 5.0}, {\"name\": \"Nicaragua\", \"children\": [{\"name\": \"Teen-fertility\", \"size\": 111.0}], \"gini\": 4.0}, {\"name\": \"Panama\", \"children\": [{\"name\": \"Teen-fertility\", \"size\": 81.0}], \"gini\": 5.0}]}, {\"name\": \"Europe\", \"children\": [{\"name\": \"Albania\", \"children\": [{\"name\": \"Teen-fertility\", \"size\": 11.2}], \"gini\": 2.0}, {\"name\": \"Austria\", \"children\": [{\"name\": \"Teen-fertility\", \"size\": 11.202}], \"gini\": 2.0}, {\"name\": \"Belarus\", \"children\": [{\"name\": \"Teen-fertility\", \"size\": 20.794}], \"gini\": 2.0}, {\"name\": \"Belgium\", \"children\": [{\"name\": \"Teen-fertility\", \"size\": 10.0}], \"gini\": 2.0}, {\"name\": \"Bulgaria\", \"children\": [{\"name\": \"Teen-fertility\", \"size\": 42.0}], \"gini\": 3.0}, {\"name\": \"Croatia\", \"children\": [{\"name\": \"Teen-fertility\", \"size\": 13.0}], \"gini\": 3.0}, {\"name\": \"Denmark\", \"children\": [{\"name\": \"Teen-fertility\", \"size\": 6.2}], \"gini\": 2.0}, {\"name\": \"Estonia\", \"children\": [{\"name\": \"Teen-fertility\", \"size\": 21.0}], \"gini\": 3.0}, {\"name\": \"Finland\", \"children\": [{\"name\": \"Teen-fertility\", \"size\": 8.7}], \"gini\": 2.0}, {\"name\": \"France\", \"children\": [{\"name\": \"Teen-fertility\", \"size\": 7.0}], \"gini\": 3.0}, {\"name\": \"Germany\", \"children\": [{\"name\": \"Teen-fertility\", \"size\": 10.0}], \"gini\": 2.0}, {\"name\": \"Greece\", \"children\": [{\"name\": \"Teen-fertility\", \"size\": 12.0}], \"gini\": 3.0}, {\"name\": \"Hungary\", \"children\": [{\"name\": \"Teen-fertility\", \"size\": 20.0}], \"gini\": 3.0}, {\"name\": \"Iceland\", \"children\": [{\"name\": \"Teen-fertility\", \"size\": 15.0}], \"gini\": 2.0}, {\"name\": \"Ireland\", \"children\": [{\"name\": \"Teen-fertility\", \"size\": 18.0}], \"gini\": 3.0}, {\"name\": \"Italy\", \"children\": [{\"name\": \"Teen-fertility\", \"size\": 7.0}], \"gini\": 3.0}, {\"name\": \"Latvia\", \"children\": [{\"name\": \"Teen-fertility\", \"size\": 17.0}], \"gini\": 3.0}, {\"name\": \"Lithuania\", \"children\": [{\"name\": \"Teen-fertility\", \"size\": 19.0}], \"gini\": 3.0}, {\"name\": \"Luxembourg\", \"children\": [{\"name\": \"Teen-fertility\", \"size\": 9.0}], \"gini\": 3.0}, {\"name\": \"Malta\", \"children\": [{\"name\": \"Teen-fertility\", \"size\": 19.0}], \"gini\": 2.0}, {\"name\": \"Moldova\", \"children\": [{\"name\": \"Teen-fertility\", \"size\": 33.0}], \"gini\": 2.0}, {\"name\": \"Montenegro\", \"children\": [{\"name\": \"Teen-fertility\", \"size\": 17.0}], \"gini\": 2.0}, {\"name\": \"Netherlands\", \"children\": [{\"name\": \"Teen-fertility\", \"size\": 5.0}], \"gini\": 2.0}, {\"name\": \"Norway\", \"children\": [{\"name\": \"Teen-fertility\", \"size\": 9.3}], \"gini\": 2.0}, {\"name\": \"Poland\", \"children\": [{\"name\": \"Teen-fertility\", \"size\": 14.0}], \"gini\": 3.0}, {\"name\": \"Portugal\", \"children\": [{\"name\": \"Teen-fertility\", \"size\": 16.0}], \"gini\": 3.0}, {\"name\": \"Romania\", \"children\": [{\"name\": \"Teen-fertility\", \"size\": 39.0}], \"gini\": 2.0}, {\"name\": \"Russia\", \"children\": [{\"name\": \"Teen-fertility\", \"size\": 29.0}], \"gini\": 4.0}, {\"name\": \"Serbia\", \"children\": [{\"name\": \"Teen-fertility\", \"size\": 22.0}], \"gini\": 3.0}, {\"name\": \"Slovenia\", \"children\": [{\"name\": \"Teen-fertility\", \"size\": 5.0}], \"gini\": 2.0}, {\"name\": \"Spain\", \"children\": [{\"name\": \"Teen-fertility\", \"size\": 13.0}], \"gini\": 3.0}, {\"name\": \"Sweden\", \"children\": [{\"name\": \"Teen-fertility\", \"size\": 6.0}], \"gini\": 2.0}, {\"name\": \"Switzerland\", \"children\": [{\"name\": \"Teen-fertility\", \"size\": 4.0}], \"gini\": 2.0}, {\"name\": \"Ukraine\", \"children\": [{\"name\": \"Teen-fertility\", \"size\": 32.0}], \"gini\": 2.0}]}, {\"name\": \"North America\", \"children\": [{\"name\": \"Canada\", \"children\": [{\"name\": \"Teen-fertility\", \"size\": 13.4138}], \"gini\": 3.0}, {\"name\": \"Haiti\", \"children\": [{\"name\": \"Teen-fertility\", \"size\": 45.0}], \"gini\": 6.0}, {\"name\": \"Jamaica\", \"children\": [{\"name\": \"Teen-fertility\", \"size\": 76.0}], \"gini\": 4.0}, {\"name\": \"Mexico\", \"children\": [{\"name\": \"Teen-fertility\", \"size\": 70.0}], \"gini\": 4.0}]}, {\"name\": \"South America\", \"children\": [{\"name\": \"Argentina\", \"children\": [{\"name\": \"Teen-fertility\", \"size\": 67.4}], \"gini\": 4.0}, {\"name\": \"Bolivia\", \"children\": [{\"name\": \"Teen-fertility\", \"size\": 78.0}], \"gini\": 4.0}, {\"name\": \"Brazil\", \"children\": [{\"name\": \"Teen-fertility\", \"size\": 76.0}], \"gini\": 5.0}, {\"name\": \"Chile\", \"children\": [{\"name\": \"Teen-fertility\", \"size\": 58.0}], \"gini\": 5.0}, {\"name\": \"Colombia\", \"children\": [{\"name\": \"Teen-fertility\", \"size\": 73.0}], \"gini\": 5.0}, {\"name\": \"Ecuador\", \"children\": [{\"name\": \"Teen-fertility\", \"size\": 82.0}], \"gini\": 4.0}, {\"name\": \"Guyana\", \"children\": [{\"name\": \"Teen-fertility\", \"size\": 65.0}], \"gini\": 4.0}, {\"name\": \"Paraguay\", \"children\": [{\"name\": \"Teen-fertility\", \"size\": 71.0}], \"gini\": 5.0}, {\"name\": \"Peru\", \"children\": [{\"name\": \"Teen-fertility\", \"size\": 54.0}], \"gini\": 4.0}, {\"name\": \"Uruguay\", \"children\": [{\"name\": \"Teen-fertility\", \"size\": 61.0}], \"gini\": 4.0}, {\"name\": \"Venezuela\", \"children\": [{\"name\": \"Teen-fertility\", \"size\": 89.0}], \"gini\": 3.0}]}]}'"
      ]
     },
     "execution_count": 15,
     "metadata": {},
     "output_type": "execute_result"
    }
   ],
   "source": [
    "json_out"
   ]
  },
  {
   "cell_type": "code",
   "execution_count": 22,
   "metadata": {
    "collapsed": false
   },
   "outputs": [],
   "source": [
    "import io\n",
    "path = os.path.join(os.pardir, \"data/gapminder/jsons\")\n",
    "# process Unicode text\n",
    "with io.open(path+'/'+'roads paved.json','w',encoding='utf8') as f:\n",
    "    json.dump(parsed, f)"
   ]
  },
  {
   "cell_type": "code",
   "execution_count": 23,
   "metadata": {
    "collapsed": false
   },
   "outputs": [],
   "source": [
    "path = os.path.join(os.pardir, \"data/gapminder\")"
   ]
  },
  {
   "cell_type": "code",
   "execution_count": 24,
   "metadata": {
    "collapsed": true
   },
   "outputs": [],
   "source": [
    "from os import listdir\n",
    "from os.path import isfile, join\n",
    "onlyfiles = [f for f in listdir(DATA_PATH) if isfile(join(DATA_PATH, f))]"
   ]
  },
  {
   "cell_type": "code",
   "execution_count": 25,
   "metadata": {
    "collapsed": false
   },
   "outputs": [
    {
     "data": {
      "text/plain": [
       "['.DS_Store',\n",
       " 'Child out of school primary.csv',\n",
       " 'Child out of school primiary female.csv',\n",
       " 'Child out of school primiary male.csv',\n",
       " 'Child-All cause.csv',\n",
       " 'Child-HIV.csv',\n",
       " 'gini-complete.csv',\n",
       " 'indicator gapminder infant_mortality.csv',\n",
       " 'indicator SE_ADT_LITR_FE_ZS.csv',\n",
       " 'indicator SE_ADT_LITR_MA_ZS.csv',\n",
       " 'indicator SE_ADT_LITR_ZS.csv',\n",
       " 'indicator SE_ENR_PRSC_FM_ZS.csv',\n",
       " 'indicator SP_ADO_TFRT.csv',\n",
       " 'indicator wdi urbanpopulation.csv',\n",
       " 'Indicator_estimated new births.csv',\n",
       " 'Indicator_Poverty headcount ratio at $2 a day (PPP) (% of population).csv',\n",
       " 'indicatorpolityiv.csv',\n",
       " 'roads paved.csv',\n",
       " 'suicide indicator age adjusted -05 extrapolated UL 2020100818b.csv',\n",
       " 'teen-fertility.csv']"
      ]
     },
     "execution_count": 25,
     "metadata": {},
     "output_type": "execute_result"
    }
   ],
   "source": [
    "onlyfiles"
   ]
  },
  {
   "cell_type": "code",
   "execution_count": 26,
   "metadata": {
    "collapsed": true
   },
   "outputs": [],
   "source": [
    "path_scatter = os.path.join(os.pardir, \"scatter\")"
   ]
  },
  {
   "cell_type": "code",
   "execution_count": 31,
   "metadata": {
    "collapsed": true
   },
   "outputs": [],
   "source": [
    "def generate_json_from_csv (file_name):\n",
    "    gini_df = pd.read_csv(os.path.join(DATA_PATH, GINI_FILE),sep=\",\")\n",
    "    child_death_df = pd.read_csv(os.path.join(DATA_PATH, file_name), sep=\";\",encoding = 'ISO-8859-1')\n",
    "    countries_df = pd.read_csv(os.path.join(DATA_PATH2, COUNTRIES_FILE), sep=\";\", usecols = ['Country (en)', \"Continent\"])\n",
    "    countries_df = countries_df.rename(columns ={\"Country (en)\" :\"countries\"})\n",
    "    df_intermediate = pd.merge(gini_df, child_death_df,  how='inner', on=['countries'])\n",
    "    df_intermediate.dropna(axis=0,inplace=True)\n",
    "    df_final = pd.merge(df_intermediate, countries_df,  how='left', on=['countries'])\n",
    "    df_final.to_csv(path_scatter+'/'+file_name+'.csv',sep=',', encoding='utf-8')\n",
    "    df_final_cols = df_final.columns.tolist()\n",
    "    df_final_cols = df_final_cols[-1:] + df_final_cols[:-1]\n",
    "    df_final = df_final[df_final_cols]\n",
    "    json_dict = {}\n",
    "    json_dict[\"name\"] = \"Json_file\"\n",
    "    json_dict['children'] = []\n",
    "    for grp, grp_data in df_final.groupby('Continent'):\n",
    "        #print ('grp_data',grp_data)\n",
    "        grp_dict = {}\n",
    "        #print (grp)\n",
    "        grp_dict['name'] = grp\n",
    "        grp_dict['children'] = []\n",
    "        for cat, cat_data in grp_data.groupby('countries'):\n",
    "            #print (\"cat\",cat)\n",
    "            #print (\"cat_data\",cat_data)\n",
    "\n",
    "            cat_dict = {}\n",
    "\n",
    "            cat_dict['name'] = cat\n",
    "\n",
    "            cat_dict['children'] = []\n",
    "            #cat_dict['name'] = cat\n",
    "            for p, p_data in cat_data.groupby('Gini'):\n",
    "                cat_dict['gini'] =p\n",
    "                p_data = p_data.drop(['Continent', 'countries'], axis=1).set_index('Gini')\n",
    "\n",
    "                for d in p_data.to_dict(orient='records'):\n",
    "                    for key, value in d.items():\n",
    "                        d_prime ={}\n",
    "                        d_prime [\"name\"] =key\n",
    "                        d_prime [\"size\"] =value\n",
    "                        cat_dict['children'].append(d_prime)\n",
    "            grp_dict['children'].append(cat_dict)\n",
    "        json_dict['children'].append(grp_dict)\n",
    "    json_out = dumps(json_dict)\n",
    "    parsed = json.loads(json_out)\n",
    "    path = os.path.join(os.pardir, \"data/gapminder/jsons\")\n",
    "# process Unicode text\n",
    "    with io.open(path+'/'+file_name+'.json','w',encoding='utf8') as f:\n",
    "        json.dump(parsed, f)"
   ]
  },
  {
   "cell_type": "code",
   "execution_count": 32,
   "metadata": {
    "collapsed": true
   },
   "outputs": [],
   "source": [
    "from os import listdir\n",
    "from os.path import isfile, join\n",
    "onlyfiles = [f for f in listdir(DATA_PATH) if isfile(join(DATA_PATH, f))]"
   ]
  },
  {
   "cell_type": "code",
   "execution_count": 33,
   "metadata": {
    "collapsed": false
   },
   "outputs": [],
   "source": [
    "for file_name in onlyfiles :\n",
    "    fileName, fileExtension = os.path.splitext(file_name)\n",
    "    if fileExtension ==\".csv\" and fileName != \"gini-complete\":\n",
    "        generate_json_from_csv(file_name)"
   ]
  },
  {
   "cell_type": "code",
   "execution_count": null,
   "metadata": {
    "collapsed": true
   },
   "outputs": [],
   "source": []
  }
 ],
 "metadata": {
  "anaconda-cloud": {},
  "kernelspec": {
   "display_name": "Python 3",
   "language": "python",
   "name": "python3"
  },
  "language_info": {
   "codemirror_mode": {
    "name": "ipython",
    "version": 3
   },
   "file_extension": ".py",
   "mimetype": "text/x-python",
   "name": "python",
   "nbconvert_exporter": "python",
   "pygments_lexer": "ipython3",
   "version": "3.6.0"
  }
 },
 "nbformat": 4,
 "nbformat_minor": 1
}
