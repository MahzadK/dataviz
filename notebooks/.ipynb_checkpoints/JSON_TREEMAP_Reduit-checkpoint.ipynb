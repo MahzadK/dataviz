{
 "cells": [
  {
   "cell_type": "code",
   "execution_count": 1,
   "metadata": {
    "collapsed": true
   },
   "outputs": [],
   "source": [
    "%matplotlib inline\n",
    "import pandas as pd\n",
    "import os\n",
    "import os.path\n",
    "import itertools\n",
    "import matplotlib.pyplot as plt\n",
    "import math\n",
    "import pprint\n",
    "import pprint as pp\n",
    "import numpy as np"
   ]
  },
  {
   "cell_type": "markdown",
   "metadata": {},
   "source": [
    "## 1.  LOAD DATA"
   ]
  },
  {
   "cell_type": "code",
   "execution_count": 58,
   "metadata": {
    "collapsed": false
   },
   "outputs": [],
   "source": [
    "DATA_PATH = os.path.abspath(os.path.join(os.pardir, \"data/gapminder/fichiers_csv\"))\n",
    "DATA_PATH2 = os.path.abspath(os.path.join(os.pardir, \"data\"))\n",
    "Child_death_FILE = \"teen-fertility.csv\"\n",
    "GINI_FILE = \"gini-complete.csv\"\n",
    "#Year_in_school = \"Years in school men 25-34.csv\"\"\n",
    "#FERTILITY_FILE = \"teen-fertility.csv\"\n",
    "COUNTRIES_FILE = \"3-countries.csv\"\n",
    "#fertility_df = pd.read_csv(os.path.join(DATA_PATH, FERTILITY_FILE), sep=\";\")\n",
    "gini_df = pd.read_csv(os.path.join(DATA_PATH, GINI_FILE),sep=\",\")\n",
    "\n",
    "child_death_df = pd.read_csv(os.path.join(DATA_PATH, Child_death_FILE), sep=\";\",encoding = 'ISO-8859-1')\n",
    "countries_df = pd.read_csv(os.path.join(DATA_PATH2, COUNTRIES_FILE), sep=\";\", usecols = ['Country (en)', \"Continent\"])"
   ]
  },
  {
   "cell_type": "code",
   "execution_count": 59,
   "metadata": {
    "collapsed": false
   },
   "outputs": [
    {
     "data": {
      "text/html": [
       "<div>\n",
       "<table border=\"1\" class=\"dataframe\">\n",
       "  <thead>\n",
       "    <tr style=\"text-align: right;\">\n",
       "      <th></th>\n",
       "      <th>countries</th>\n",
       "      <th>Teen-fertility</th>\n",
       "    </tr>\n",
       "  </thead>\n",
       "  <tbody>\n",
       "    <tr>\n",
       "      <th>0</th>\n",
       "      <td>Abkhazia</td>\n",
       "      <td>NaN</td>\n",
       "    </tr>\n",
       "    <tr>\n",
       "      <th>1</th>\n",
       "      <td>Afghanistan</td>\n",
       "      <td>115.0</td>\n",
       "    </tr>\n",
       "    <tr>\n",
       "      <th>2</th>\n",
       "      <td>Akrotiri and Dhekelia</td>\n",
       "      <td>NaN</td>\n",
       "    </tr>\n",
       "    <tr>\n",
       "      <th>3</th>\n",
       "      <td>Albania</td>\n",
       "      <td>11.2</td>\n",
       "    </tr>\n",
       "    <tr>\n",
       "      <th>4</th>\n",
       "      <td>Algeria</td>\n",
       "      <td>7.0</td>\n",
       "    </tr>\n",
       "  </tbody>\n",
       "</table>\n",
       "</div>"
      ],
      "text/plain": [
       "               countries  Teen-fertility\n",
       "0               Abkhazia             NaN\n",
       "1            Afghanistan           115.0\n",
       "2  Akrotiri and Dhekelia             NaN\n",
       "3                Albania            11.2\n",
       "4                Algeria             7.0"
      ]
     },
     "execution_count": 59,
     "metadata": {},
     "output_type": "execute_result"
    }
   ],
   "source": [
    "child_death_df.head()"
   ]
  },
  {
   "cell_type": "code",
   "execution_count": 60,
   "metadata": {
    "collapsed": false
   },
   "outputs": [
    {
     "data": {
      "text/html": [
       "<div>\n",
       "<table border=\"1\" class=\"dataframe\">\n",
       "  <thead>\n",
       "    <tr style=\"text-align: right;\">\n",
       "      <th></th>\n",
       "      <th>countries</th>\n",
       "      <th>Continent</th>\n",
       "    </tr>\n",
       "  </thead>\n",
       "  <tbody>\n",
       "    <tr>\n",
       "      <th>0</th>\n",
       "      <td>Afghanistan</td>\n",
       "      <td>Asia</td>\n",
       "    </tr>\n",
       "    <tr>\n",
       "      <th>1</th>\n",
       "      <td>Egypt</td>\n",
       "      <td>Africa</td>\n",
       "    </tr>\n",
       "    <tr>\n",
       "      <th>2</th>\n",
       "      <td>Åland Islands</td>\n",
       "      <td>Europe</td>\n",
       "    </tr>\n",
       "  </tbody>\n",
       "</table>\n",
       "</div>"
      ],
      "text/plain": [
       "       countries Continent\n",
       "0    Afghanistan      Asia\n",
       "1          Egypt    Africa\n",
       "2  Åland Islands    Europe"
      ]
     },
     "execution_count": 60,
     "metadata": {},
     "output_type": "execute_result"
    }
   ],
   "source": [
    "countries_df = countries_df.rename(columns ={\"Country (en)\" :\"countries\"})\n",
    "countries_df.head(3)"
   ]
  },
  {
   "cell_type": "code",
   "execution_count": 61,
   "metadata": {
    "collapsed": false
   },
   "outputs": [],
   "source": [
    "#fertility_df.head(3)"
   ]
  },
  {
   "cell_type": "code",
   "execution_count": 62,
   "metadata": {
    "collapsed": false
   },
   "outputs": [
    {
     "data": {
      "text/html": [
       "<div>\n",
       "<table border=\"1\" class=\"dataframe\">\n",
       "  <thead>\n",
       "    <tr style=\"text-align: right;\">\n",
       "      <th></th>\n",
       "      <th>countries</th>\n",
       "      <th>Gini</th>\n",
       "    </tr>\n",
       "  </thead>\n",
       "  <tbody>\n",
       "    <tr>\n",
       "      <th>0</th>\n",
       "      <td>Lesotho</td>\n",
       "      <td>63.2</td>\n",
       "    </tr>\n",
       "    <tr>\n",
       "      <th>1</th>\n",
       "      <td>South_Africa</td>\n",
       "      <td>62.5</td>\n",
       "    </tr>\n",
       "    <tr>\n",
       "      <th>2</th>\n",
       "      <td>Central_African_Republic</td>\n",
       "      <td>61.3</td>\n",
       "    </tr>\n",
       "  </tbody>\n",
       "</table>\n",
       "</div>"
      ],
      "text/plain": [
       "                  countries  Gini\n",
       "0                   Lesotho  63.2\n",
       "1              South_Africa  62.5\n",
       "2  Central_African_Republic  61.3"
      ]
     },
     "execution_count": 62,
     "metadata": {},
     "output_type": "execute_result"
    }
   ],
   "source": [
    "gini_df.head(3)"
   ]
  },
  {
   "cell_type": "code",
   "execution_count": 38,
   "metadata": {
    "collapsed": false
   },
   "outputs": [],
   "source": [
    "#child_death_df.head(3)\n",
    "#child_death_df = child_death_df.rename(columns ={\"Roads, paved (% of total roads)\" :\"Roads paved\"})"
   ]
  },
  {
   "cell_type": "code",
   "execution_count": 63,
   "metadata": {
    "collapsed": false
   },
   "outputs": [],
   "source": [
    "df_intermediate = pd.merge(gini_df, child_death_df,  how='inner', on=['countries'])\n",
    "\n"
   ]
  },
  {
   "cell_type": "code",
   "execution_count": 50,
   "metadata": {
    "collapsed": false
   },
   "outputs": [],
   "source": [
    "df_intermediate.dropna(axis=0,inplace=True)"
   ]
  },
  {
   "cell_type": "code",
   "execution_count": 68,
   "metadata": {
    "collapsed": false
   },
   "outputs": [],
   "source": [
    "df_final = pd.merge(df_intermediate, countries_df,  how='left', on=['countries'])\n"
   ]
  },
  {
   "cell_type": "code",
   "execution_count": 65,
   "metadata": {
    "collapsed": false
   },
   "outputs": [
    {
     "data": {
      "text/plain": [
       "'..'"
      ]
     },
     "execution_count": 65,
     "metadata": {},
     "output_type": "execute_result"
    }
   ],
   "source": []
  },
  {
   "cell_type": "code",
   "execution_count": 72,
   "metadata": {
    "collapsed": false
   },
   "outputs": [],
   "source": [
    "path_scatter = os.path.join(os.curdir, \"scatter\")\n",
    "#df_final.to_csv(path_scatter+\"teen-fertility\", sep=',', encoding='utf-8')\n",
    "df_final.to_csv(path_scatter+'/teen-fertility.csv',sep=',', encoding='utf-8')"
   ]
  },
  {
   "cell_type": "code",
   "execution_count": 73,
   "metadata": {
    "collapsed": false
   },
   "outputs": [
    {
     "data": {
      "text/plain": [
       "'./scatterteen-fertility.csv'"
      ]
     },
     "execution_count": 73,
     "metadata": {},
     "output_type": "execute_result"
    }
   ],
   "source": [
    "path_scatter+'teen-fertility.csv'"
   ]
  },
  {
   "cell_type": "code",
   "execution_count": 252,
   "metadata": {
    "collapsed": false
   },
   "outputs": [
    {
     "data": {
      "text/html": [
       "<div>\n",
       "<table border=\"1\" class=\"dataframe\">\n",
       "  <thead>\n",
       "    <tr style=\"text-align: right;\">\n",
       "      <th></th>\n",
       "      <th>Continent</th>\n",
       "      <th>countries</th>\n",
       "      <th>Gini</th>\n",
       "      <th>Roads, paved (% of total roads)</th>\n",
       "    </tr>\n",
       "  </thead>\n",
       "  <tbody>\n",
       "    <tr>\n",
       "      <th>0</th>\n",
       "      <td>Africa</td>\n",
       "      <td>Lesotho</td>\n",
       "      <td>63.2</td>\n",
       "      <td>18.299999</td>\n",
       "    </tr>\n",
       "    <tr>\n",
       "      <th>1</th>\n",
       "      <td>North America</td>\n",
       "      <td>Haiti</td>\n",
       "      <td>60.8</td>\n",
       "      <td>24.299999</td>\n",
       "    </tr>\n",
       "    <tr>\n",
       "      <th>2</th>\n",
       "      <td>Africa</td>\n",
       "      <td>Botswana</td>\n",
       "      <td>60.5</td>\n",
       "      <td>NaN</td>\n",
       "    </tr>\n",
       "  </tbody>\n",
       "</table>\n",
       "</div>"
      ],
      "text/plain": [
       "       Continent countries  Gini  Roads, paved (% of total roads)\n",
       "0         Africa   Lesotho  63.2                        18.299999\n",
       "1  North America     Haiti  60.8                        24.299999\n",
       "2         Africa  Botswana  60.5                              NaN"
      ]
     },
     "execution_count": 252,
     "metadata": {},
     "output_type": "execute_result"
    }
   ],
   "source": [
    "df_final_cols = df_final.columns.tolist()\n",
    "df_final_cols = df_final_cols[-1:] + df_final_cols[:-1]\n",
    "df_final = df_final[df_final_cols]\n",
    "df_final.head(3)\n"
   ]
  },
  {
   "cell_type": "code",
   "execution_count": 253,
   "metadata": {
    "collapsed": false
   },
   "outputs": [],
   "source": [
    "import json\n",
    "from json import dumps\n",
    "\n",
    "json_dict = {}\n",
    "json_dict[\"name\"] = \"Json_file\"\n",
    "json_dict['children'] = []\n",
    "for grp, grp_data in df_final.groupby('Continent'):\n",
    "    #print ('grp_data',grp_data)\n",
    "    grp_dict = {}\n",
    "    #print (grp)\n",
    "    grp_dict['name'] = grp\n",
    "    grp_dict['children'] = []\n",
    "    for cat, cat_data in grp_data.groupby('countries'):\n",
    "        #print (\"cat\",cat)\n",
    "        #print (\"cat_data\",cat_data)\n",
    "        \n",
    "        cat_dict = {}\n",
    "         \n",
    "        cat_dict['name'] = cat\n",
    "        \n",
    "        cat_dict['children'] = []\n",
    "        #cat_dict['name'] = cat\n",
    "        for p, p_data in cat_data.groupby('Gini'):\n",
    "            cat_dict['gini'] =p//10\n",
    "            p_data = p_data.drop(['Continent', 'countries'], axis=1).set_index('Gini')\n",
    "            \n",
    "            for d in p_data.to_dict(orient='records'):\n",
    "                for key, value in d.items():\n",
    "                    d_prime ={}\n",
    "                    d_prime [\"name\"] =key\n",
    "                    d_prime [\"size\"] =value\n",
    "                    cat_dict['children'].append(d_prime)\n",
    "        grp_dict['children'].append(cat_dict)\n",
    "    json_dict['children'].append(grp_dict)\n",
    "json_out = dumps(json_dict)\n",
    "parsed = json.loads(json_out)    "
   ]
  },
  {
   "cell_type": "code",
   "execution_count": 254,
   "metadata": {
    "collapsed": false
   },
   "outputs": [
    {
     "data": {
      "text/plain": [
       "'{\"name\": \"Json_file\", \"children\": [{\"name\": \"Africa\", \"children\": [{\"name\": \"Algeria\", \"children\": [{\"name\": \"Roads, paved (% of total roads)\", \"size\": 68.90000152587889}], \"gini\": 3.0}, {\"name\": \"Benin\", \"children\": [{\"name\": \"Roads, paved (% of total roads)\", \"size\": NaN}], \"gini\": 3.0}, {\"name\": \"Botswana\", \"children\": [{\"name\": \"Roads, paved (% of total roads)\", \"size\": NaN}], \"gini\": 6.0}, {\"name\": \"Burundi\", \"children\": [{\"name\": \"Roads, paved (% of total roads)\", \"size\": 7.099999904632571}], \"gini\": 4.0}, {\"name\": \"Cameroon\", \"children\": [{\"name\": \"Roads, paved (% of total roads)\", \"size\": 8.10000038146973}], \"gini\": 4.0}, {\"name\": \"Chad\", \"children\": [{\"name\": \"Roads, paved (% of total roads)\", \"size\": 0.8000000119209291}], \"gini\": 4.0}, {\"name\": \"Djibouti\", \"children\": [{\"name\": \"Roads, paved (% of total roads)\", \"size\": 45.0}], \"gini\": 4.0}, {\"name\": \"Egypt\", \"children\": [{\"name\": \"Roads, paved (% of total roads)\", \"size\": 78.0999984741211}], \"gini\": 3.0}, {\"name\": \"Ethiopia\", \"children\": [{\"name\": \"Roads, paved (% of total roads)\", \"size\": 12.0}], \"gini\": 3.0}, {\"name\": \"Gambia\", \"children\": [{\"name\": \"Roads, paved (% of total roads)\", \"size\": NaN}], \"gini\": 5.0}, {\"name\": \"Ghana\", \"children\": [{\"name\": \"Roads, paved (% of total roads)\", \"size\": 29.600000381469698}], \"gini\": 4.0}, {\"name\": \"Guinea\", \"children\": [{\"name\": \"Roads, paved (% of total roads)\", \"size\": 16.5}], \"gini\": 3.0}, {\"name\": \"Kenya\", \"children\": [{\"name\": \"Roads, paved (% of total roads)\", \"size\": 12.1000003814697}], \"gini\": 4.0}, {\"name\": \"Lesotho\", \"children\": [{\"name\": \"Roads, paved (% of total roads)\", \"size\": 18.2999992370605}], \"gini\": 6.0}, {\"name\": \"Madagascar\", \"children\": [{\"name\": \"Roads, paved (% of total roads)\", \"size\": 11.6000003814697}], \"gini\": 4.0}, {\"name\": \"Malawi\", \"children\": [{\"name\": \"Roads, paved (% of total roads)\", \"size\": NaN}], \"gini\": 3.0}, {\"name\": \"Mali\", \"children\": [{\"name\": \"Roads, paved (% of total roads)\", \"size\": 12.1000003814697}], \"gini\": 4.0}, {\"name\": \"Mauritania\", \"children\": [{\"name\": \"Roads, paved (% of total roads)\", \"size\": NaN}], \"gini\": 3.0}, {\"name\": \"Mauritius\", \"children\": [{\"name\": \"Roads, paved (% of total roads)\", \"size\": 97.0}], \"gini\": 3.0}, {\"name\": \"Morocco\", \"children\": [{\"name\": \"Roads, paved (% of total roads)\", \"size\": 56.41999816894529}], \"gini\": 4.0}, {\"name\": \"Mozambique\", \"children\": [{\"name\": \"Roads, paved (% of total roads)\", \"size\": 18.7000007629395}], \"gini\": 4.0}, {\"name\": \"Namibia\", \"children\": [{\"name\": \"Roads, paved (% of total roads)\", \"size\": NaN}], \"gini\": 5.0}, {\"name\": \"Niger\", \"children\": [{\"name\": \"Roads, paved (% of total roads)\", \"size\": NaN}], \"gini\": 3.0}, {\"name\": \"Nigeria\", \"children\": [{\"name\": \"Roads, paved (% of total roads)\", \"size\": NaN}], \"gini\": 4.0}, {\"name\": \"Rwanda\", \"children\": [{\"name\": \"Roads, paved (% of total roads)\", \"size\": NaN}], \"gini\": 4.0}, {\"name\": \"Senegal\", \"children\": [{\"name\": \"Roads, paved (% of total roads)\", \"size\": 29.2999992370605}], \"gini\": 4.0}, {\"name\": \"Swaziland\", \"children\": [{\"name\": \"Roads, paved (% of total roads)\", \"size\": NaN}], \"gini\": 5.0}, {\"name\": \"Tanzania\", \"children\": [{\"name\": \"Roads, paved (% of total roads)\", \"size\": NaN}], \"gini\": 3.0}, {\"name\": \"Tunisia\", \"children\": [{\"name\": \"Roads, paved (% of total roads)\", \"size\": 68.40000152587889}], \"gini\": 4.0}, {\"name\": \"Uganda\", \"children\": [{\"name\": \"Roads, paved (% of total roads)\", \"size\": NaN}], \"gini\": 3.0}, {\"name\": \"Zambia\", \"children\": [{\"name\": \"Roads, paved (% of total roads)\", \"size\": NaN}], \"gini\": 5.0}, {\"name\": \"Zimbabwe\", \"children\": [{\"name\": \"Roads, paved (% of total roads)\", \"size\": NaN}], \"gini\": 5.0}]}, {\"name\": \"Asia\", \"children\": [{\"name\": \"Armenia\", \"children\": [{\"name\": \"Roads, paved (% of total roads)\", \"size\": NaN}], \"gini\": 3.0}, {\"name\": \"Azerbaijan\", \"children\": [{\"name\": \"Roads, paved (% of total roads)\", \"size\": NaN}], \"gini\": 3.0}, {\"name\": \"Bangladesh\", \"children\": [{\"name\": \"Roads, paved (% of total roads)\", \"size\": 9.52999973297119}], \"gini\": 3.0}, {\"name\": \"Bhutan\", \"children\": [{\"name\": \"Roads, paved (% of total roads)\", \"size\": NaN}], \"gini\": 3.0}, {\"name\": \"Cambodia\", \"children\": [{\"name\": \"Roads, paved (% of total roads)\", \"size\": NaN}], \"gini\": 3.0}, {\"name\": \"China\", \"children\": [{\"name\": \"Roads, paved (% of total roads)\", \"size\": NaN}], \"gini\": 4.0}, {\"name\": \"Cyprus\", \"children\": [{\"name\": \"Roads, paved (% of total roads)\", \"size\": 60.5999984741211}], \"gini\": 3.0}, {\"name\": \"Georgia\", \"children\": [{\"name\": \"Roads, paved (% of total roads)\", \"size\": NaN}], \"gini\": 4.0}, {\"name\": \"India\", \"children\": [{\"name\": \"Roads, paved (% of total roads)\", \"size\": 47.459999084472706}], \"gini\": 3.0}, {\"name\": \"Indonesia\", \"children\": [{\"name\": \"Roads, paved (% of total roads)\", \"size\": 57.0999984741}], \"gini\": 3.0}, {\"name\": \"Iran\", \"children\": [{\"name\": \"Roads, paved (% of total roads)\", \"size\": NaN}], \"gini\": 4.0}, {\"name\": \"Israel\", \"children\": [{\"name\": \"Roads, paved (% of total roads)\", \"size\": 100.0}], \"gini\": 4.0}, {\"name\": \"Japan\", \"children\": [{\"name\": \"Roads, paved (% of total roads)\", \"size\": 76.5999984741211}], \"gini\": 3.0}, {\"name\": \"Jordan\", \"children\": [{\"name\": \"Roads, paved (% of total roads)\", \"size\": NaN}], \"gini\": 3.0}, {\"name\": \"Kazakhstan\", \"children\": [{\"name\": \"Roads, paved (% of total roads)\", \"size\": NaN}], \"gini\": 2.0}, {\"name\": \"Kyrgyzstan\", \"children\": [{\"name\": \"Roads, paved (% of total roads)\", \"size\": 91.0999984741211}], \"gini\": 3.0}, {\"name\": \"Laos\", \"children\": [{\"name\": \"Roads, paved (% of total roads)\", \"size\": NaN}], \"gini\": 3.0}, {\"name\": \"Malaysia\", \"children\": [{\"name\": \"Roads, paved (% of total roads)\", \"size\": 76.18481450823991}], \"gini\": 4.0}, {\"name\": \"Maldives\", \"children\": [{\"name\": \"Roads, paved (% of total roads)\", \"size\": NaN}], \"gini\": 3.0}, {\"name\": \"Mongolia\", \"children\": [{\"name\": \"Roads, paved (% of total roads)\", \"size\": 3.5}], \"gini\": 3.0}, {\"name\": \"Nepal\", \"children\": [{\"name\": \"Roads, paved (% of total roads)\", \"size\": NaN}], \"gini\": 3.0}, {\"name\": \"Pakistan\", \"children\": [{\"name\": \"Roads, paved (% of total roads)\", \"size\": 56.0}], \"gini\": 2.0}, {\"name\": \"Philippines\", \"children\": [{\"name\": \"Roads, paved (% of total roads)\", \"size\": NaN}], \"gini\": 4.0}, {\"name\": \"Singapore\", \"children\": [{\"name\": \"Roads, paved (% of total roads)\", \"size\": 100.0}], \"gini\": 4.0}, {\"name\": \"Tajikistan\", \"children\": [{\"name\": \"Roads, paved (% of total roads)\", \"size\": NaN}], \"gini\": 3.0}, {\"name\": \"Thailand\", \"children\": [{\"name\": \"Roads, paved (% of total roads)\", \"size\": 98.5}], \"gini\": 4.0}, {\"name\": \"Timor-Leste\", \"children\": [{\"name\": \"Roads, paved (% of total roads)\", \"size\": NaN}], \"gini\": 3.0}, {\"name\": \"Turkey\", \"children\": [{\"name\": \"Roads, paved (% of total roads)\", \"size\": NaN}], \"gini\": 4.0}, {\"name\": \"Turkmenistan\", \"children\": [{\"name\": \"Roads, paved (% of total roads)\", \"size\": 81.1999969482422}], \"gini\": 4.0}, {\"name\": \"Uzbekistan\", \"children\": [{\"name\": \"Roads, paved (% of total roads)\", \"size\": 87.3000030517578}], \"gini\": 3.0}, {\"name\": \"Vietnam\", \"children\": [{\"name\": \"Roads, paved (% of total roads)\", \"size\": NaN}], \"gini\": 3.0}]}, {\"name\": \"Australia\", \"children\": [{\"name\": \"Australia\", \"children\": [{\"name\": \"Roads, paved (% of total roads)\", \"size\": NaN}], \"gini\": 3.0}]}, {\"name\": \"Central America\", \"children\": [{\"name\": \"Guatemala\", \"children\": [{\"name\": \"Roads, paved (% of total roads)\", \"size\": 34.5}], \"gini\": 5.0}, {\"name\": \"Honduras\", \"children\": [{\"name\": \"Roads, paved (% of total roads)\", \"size\": 20.3999996185303}], \"gini\": 5.0}, {\"name\": \"Nicaragua\", \"children\": [{\"name\": \"Roads, paved (% of total roads)\", \"size\": 11.0600004196}], \"gini\": 4.0}, {\"name\": \"Panama\", \"children\": [{\"name\": \"Roads, paved (% of total roads)\", \"size\": 34.5999984741211}], \"gini\": 5.0}]}, {\"name\": \"Europe\", \"children\": [{\"name\": \"Albania\", \"children\": [{\"name\": \"Roads, paved (% of total roads)\", \"size\": 39.0}], \"gini\": 2.0}, {\"name\": \"Austria\", \"children\": [{\"name\": \"Roads, paved (% of total roads)\", \"size\": 100.0}], \"gini\": 2.0}, {\"name\": \"Belarus\", \"children\": [{\"name\": \"Roads, paved (% of total roads)\", \"size\": NaN}], \"gini\": 2.0}, {\"name\": \"Belgium\", \"children\": [{\"name\": \"Roads, paved (% of total roads)\", \"size\": 78.1999969482422}], \"gini\": 2.0}, {\"name\": \"Bulgaria\", \"children\": [{\"name\": \"Roads, paved (% of total roads)\", \"size\": NaN}], \"gini\": 3.0}, {\"name\": \"Croatia\", \"children\": [{\"name\": \"Roads, paved (% of total roads)\", \"size\": 85.4}], \"gini\": 3.0}, {\"name\": \"Denmark\", \"children\": [{\"name\": \"Roads, paved (% of total roads)\", \"size\": 100.0}], \"gini\": 2.0}, {\"name\": \"Estonia\", \"children\": [{\"name\": \"Roads, paved (% of total roads)\", \"size\": 20.1000003814697}], \"gini\": 3.0}, {\"name\": \"Finland\", \"children\": [{\"name\": \"Roads, paved (% of total roads)\", \"size\": 62.0}], \"gini\": 2.0}, {\"name\": \"France\", \"children\": [{\"name\": \"Roads, paved (% of total roads)\", \"size\": 100.0}], \"gini\": 3.0}, {\"name\": \"Germany\", \"children\": [{\"name\": \"Roads, paved (% of total roads)\", \"size\": NaN}], \"gini\": 2.0}, {\"name\": \"Greece\", \"children\": [{\"name\": \"Roads, paved (% of total roads)\", \"size\": 91.8000030517578}], \"gini\": 3.0}, {\"name\": \"Hungary\", \"children\": [{\"name\": \"Roads, paved (% of total roads)\", \"size\": NaN}], \"gini\": 3.0}, {\"name\": \"Iceland\", \"children\": [{\"name\": \"Roads, paved (% of total roads)\", \"size\": 29.5}], \"gini\": 2.0}, {\"name\": \"Ireland\", \"children\": [{\"name\": \"Roads, paved (% of total roads)\", \"size\": 100.0}], \"gini\": 3.0}, {\"name\": \"Italy\", \"children\": [{\"name\": \"Roads, paved (% of total roads)\", \"size\": 100.0}], \"gini\": 3.0}, {\"name\": \"Kosovo\", \"children\": [{\"name\": \"Roads, paved (% of total roads)\", \"size\": NaN}], \"gini\": 3.0}, {\"name\": \"Latvia\", \"children\": [{\"name\": \"Roads, paved (% of total roads)\", \"size\": NaN}], \"gini\": 3.0}, {\"name\": \"Lithuania\", \"children\": [{\"name\": \"Roads, paved (% of total roads)\", \"size\": NaN}], \"gini\": 3.0}, {\"name\": \"Luxembourg\", \"children\": [{\"name\": \"Roads, paved (% of total roads)\", \"size\": 100.0}], \"gini\": 3.0}, {\"name\": \"Malta\", \"children\": [{\"name\": \"Roads, paved (% of total roads)\", \"size\": 88.0}], \"gini\": 2.0}, {\"name\": \"Moldova\", \"children\": [{\"name\": \"Roads, paved (% of total roads)\", \"size\": 86.0999984741211}], \"gini\": 2.0}, {\"name\": \"Montenegro\", \"children\": [{\"name\": \"Roads, paved (% of total roads)\", \"size\": NaN}], \"gini\": 2.0}, {\"name\": \"Netherlands\", \"children\": [{\"name\": \"Roads, paved (% of total roads)\", \"size\": 90.0}], \"gini\": 2.0}, {\"name\": \"Norway\", \"children\": [{\"name\": \"Roads, paved (% of total roads)\", \"size\": 76.0}], \"gini\": 2.0}, {\"name\": \"Poland\", \"children\": [{\"name\": \"Roads, paved (% of total roads)\", \"size\": 68.3000030517578}], \"gini\": 3.0}, {\"name\": \"Portugal\", \"children\": [{\"name\": \"Roads, paved (% of total roads)\", \"size\": 86.0}], \"gini\": 3.0}, {\"name\": \"Romania\", \"children\": [{\"name\": \"Roads, paved (% of total roads)\", \"size\": 49.5}], \"gini\": 2.0}, {\"name\": \"Russia\", \"children\": [{\"name\": \"Roads, paved (% of total roads)\", \"size\": NaN}], \"gini\": 4.0}, {\"name\": \"Serbia\", \"children\": [{\"name\": \"Roads, paved (% of total roads)\", \"size\": 62.7000007629395}], \"gini\": 3.0}, {\"name\": \"Slovenia\", \"children\": [{\"name\": \"Roads, paved (% of total roads)\", \"size\": 100.0}], \"gini\": 2.0}, {\"name\": \"Spain\", \"children\": [{\"name\": \"Roads, paved (% of total roads)\", \"size\": 99.0}], \"gini\": 3.0}, {\"name\": \"Sweden\", \"children\": [{\"name\": \"Roads, paved (% of total roads)\", \"size\": NaN}], \"gini\": 2.0}, {\"name\": \"Switzerland\", \"children\": [{\"name\": \"Roads, paved (% of total roads)\", \"size\": NaN}], \"gini\": 2.0}, {\"name\": \"Ukraine\", \"children\": [{\"name\": \"Roads, paved (% of total roads)\", \"size\": 96.6999969482422}], \"gini\": 2.0}]}, {\"name\": \"North America\", \"children\": [{\"name\": \"Canada\", \"children\": [{\"name\": \"Roads, paved (% of total roads)\", \"size\": NaN}], \"gini\": 3.0}, {\"name\": \"Haiti\", \"children\": [{\"name\": \"Roads, paved (% of total roads)\", \"size\": 24.2999992370605}], \"gini\": 6.0}, {\"name\": \"Jamaica\", \"children\": [{\"name\": \"Roads, paved (% of total roads)\", \"size\": 70.09999847412111}], \"gini\": 4.0}, {\"name\": \"Mexico\", \"children\": [{\"name\": \"Roads, paved (% of total roads)\", \"size\": 32.7999992371}], \"gini\": 4.0}]}, {\"name\": \"South America\", \"children\": [{\"name\": \"Argentina\", \"children\": [{\"name\": \"Roads, paved (% of total roads)\", \"size\": 29.399999618530302}], \"gini\": 4.0}, {\"name\": \"Bolivia\", \"children\": [{\"name\": \"Roads, paved (% of total roads)\", \"size\": 6.599999904632571}], \"gini\": 4.0}, {\"name\": \"Brazil\", \"children\": [{\"name\": \"Roads, paved (% of total roads)\", \"size\": 5.5}], \"gini\": 5.0}, {\"name\": \"Chile\", \"children\": [{\"name\": \"Roads, paved (% of total roads)\", \"size\": 18.3999996185303}], \"gini\": 5.0}, {\"name\": \"Colombia\", \"children\": [{\"name\": \"Roads, paved (% of total roads)\", \"size\": NaN}], \"gini\": 5.0}, {\"name\": \"Ecuador\", \"children\": [{\"name\": \"Roads, paved (% of total roads)\", \"size\": 18.8999996185303}], \"gini\": 4.0}, {\"name\": \"Guyana\", \"children\": [{\"name\": \"Roads, paved (% of total roads)\", \"size\": 7.400000095367429}], \"gini\": 4.0}, {\"name\": \"Paraguay\", \"children\": [{\"name\": \"Roads, paved (% of total roads)\", \"size\": 50.7999992370605}], \"gini\": 5.0}, {\"name\": \"Peru\", \"children\": [{\"name\": \"Roads, paved (% of total roads)\", \"size\": 13.3500003814697}], \"gini\": 4.0}, {\"name\": \"Uruguay\", \"children\": [{\"name\": \"Roads, paved (% of total roads)\", \"size\": NaN}], \"gini\": 4.0}, {\"name\": \"Venezuela\", \"children\": [{\"name\": \"Roads, paved (% of total roads)\", \"size\": 33.5999984741211}], \"gini\": 3.0}]}]}'"
      ]
     },
     "execution_count": 254,
     "metadata": {},
     "output_type": "execute_result"
    }
   ],
   "source": [
    "json_out"
   ]
  },
  {
   "cell_type": "code",
   "execution_count": 255,
   "metadata": {
    "collapsed": false
   },
   "outputs": [],
   "source": [
    "import io\n",
    "path = os.path.join(os.pardir, \"data/gapminder/jsons\")\n",
    "# process Unicode text\n",
    "with io.open(path+'/'+'roads paved.json','w',encoding='utf8') as f:\n",
    "    json.dump(parsed, f)"
   ]
  },
  {
   "cell_type": "code",
   "execution_count": 243,
   "metadata": {
    "collapsed": false
   },
   "outputs": [],
   "source": [
    "path = os.path.join(os.pardir, \"data/gapminder\")"
   ]
  },
  {
   "cell_type": "code",
   "execution_count": null,
   "metadata": {
    "collapsed": true
   },
   "outputs": [],
   "source": []
  }
 ],
 "metadata": {
  "anaconda-cloud": {},
  "kernelspec": {
   "display_name": "Python 3",
   "language": "python",
   "name": "python3"
  },
  "language_info": {
   "codemirror_mode": {
    "name": "ipython",
    "version": 3
   },
   "file_extension": ".py",
   "mimetype": "text/x-python",
   "name": "python",
   "nbconvert_exporter": "python",
   "pygments_lexer": "ipython3",
   "version": "3.6.0"
  }
 },
 "nbformat": 4,
 "nbformat_minor": 1
}
