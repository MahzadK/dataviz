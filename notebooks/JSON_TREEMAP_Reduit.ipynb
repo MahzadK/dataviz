{
 "cells": [
  {
   "cell_type": "code",
   "execution_count": 2,
   "metadata": {
    "collapsed": true
   },
   "outputs": [],
   "source": [
    "%matplotlib inline\n",
    "import pandas as pd\n",
    "import os\n",
    "import os.path\n",
    "import itertools\n",
    "import matplotlib.pyplot as plt\n",
    "import math\n",
    "import pprint\n",
    "import pprint as pp\n",
    "import numpy as np"
   ]
  },
  {
   "cell_type": "markdown",
   "metadata": {},
   "source": [
    "## 1.  LOAD DATA"
   ]
  },
  {
   "cell_type": "code",
   "execution_count": 3,
   "metadata": {
    "collapsed": false
   },
   "outputs": [],
   "source": [
    "DATA_PATH = os.path.abspath(os.path.join(os.pardir, \"data/gapminder\"))\n",
    "DATA_PATH2 = os.path.abspath(os.path.join(os.pardir, \"data\"))\n",
    "Child_death_FILE = \"child-death.csv\"\n",
    "GINI_FILE = \"gini-complete.csv\"\n",
    "#Year_in_school = \"Years in school men 25-34.csv\"\n",
    "FERTILITY_FILE = \"teen-fertility.csv\"\n",
    "COUNTRIES_FILE = \"3-countries.csv\"\n",
    "fertility_df = pd.read_csv(os.path.join(DATA_PATH, FERTILITY_FILE), sep=\";\")\n",
    "gini_df = pd.read_csv(os.path.join(DATA_PATH, GINI_FILE),sep=\",\")\n",
    "child_death_df = pd.read_csv(os.path.join(DATA_PATH, Child_death_FILE), sep=\";\")\n",
    "countries_df = pd.read_csv(os.path.join(DATA_PATH2, COUNTRIES_FILE), sep=\";\", usecols = ['Country (en)', \"Continent\"])"
   ]
  },
  {
   "cell_type": "code",
   "execution_count": 4,
   "metadata": {
    "collapsed": false
   },
   "outputs": [
    {
     "data": {
      "text/html": [
       "<div>\n",
       "<table border=\"1\" class=\"dataframe\">\n",
       "  <thead>\n",
       "    <tr style=\"text-align: right;\">\n",
       "      <th></th>\n",
       "      <th>countries</th>\n",
       "      <th>Continent</th>\n",
       "    </tr>\n",
       "  </thead>\n",
       "  <tbody>\n",
       "    <tr>\n",
       "      <th>0</th>\n",
       "      <td>Afghanistan</td>\n",
       "      <td>Asia</td>\n",
       "    </tr>\n",
       "    <tr>\n",
       "      <th>1</th>\n",
       "      <td>Egypt</td>\n",
       "      <td>Africa</td>\n",
       "    </tr>\n",
       "    <tr>\n",
       "      <th>2</th>\n",
       "      <td>Åland Islands</td>\n",
       "      <td>Europe</td>\n",
       "    </tr>\n",
       "  </tbody>\n",
       "</table>\n",
       "</div>"
      ],
      "text/plain": [
       "       countries Continent\n",
       "0    Afghanistan      Asia\n",
       "1          Egypt    Africa\n",
       "2  Åland Islands    Europe"
      ]
     },
     "execution_count": 4,
     "metadata": {},
     "output_type": "execute_result"
    }
   ],
   "source": [
    "countries_df = countries_df.rename(columns ={\"Country (en)\" :\"countries\"})\n",
    "countries_df.head(3)"
   ]
  },
  {
   "cell_type": "code",
   "execution_count": 5,
   "metadata": {
    "collapsed": false
   },
   "outputs": [
    {
     "data": {
      "text/html": [
       "<div>\n",
       "<table border=\"1\" class=\"dataframe\">\n",
       "  <thead>\n",
       "    <tr style=\"text-align: right;\">\n",
       "      <th></th>\n",
       "      <th>countries</th>\n",
       "      <th>Teen-fertility</th>\n",
       "    </tr>\n",
       "  </thead>\n",
       "  <tbody>\n",
       "    <tr>\n",
       "      <th>0</th>\n",
       "      <td>Abkhazia</td>\n",
       "      <td>NaN</td>\n",
       "    </tr>\n",
       "    <tr>\n",
       "      <th>1</th>\n",
       "      <td>Afghanistan</td>\n",
       "      <td>115.0</td>\n",
       "    </tr>\n",
       "    <tr>\n",
       "      <th>2</th>\n",
       "      <td>Akrotiri and Dhekelia</td>\n",
       "      <td>NaN</td>\n",
       "    </tr>\n",
       "  </tbody>\n",
       "</table>\n",
       "</div>"
      ],
      "text/plain": [
       "               countries  Teen-fertility\n",
       "0               Abkhazia             NaN\n",
       "1            Afghanistan           115.0\n",
       "2  Akrotiri and Dhekelia             NaN"
      ]
     },
     "execution_count": 5,
     "metadata": {},
     "output_type": "execute_result"
    }
   ],
   "source": [
    "fertility_df.head(3)"
   ]
  },
  {
   "cell_type": "code",
   "execution_count": 6,
   "metadata": {
    "collapsed": false
   },
   "outputs": [
    {
     "data": {
      "text/html": [
       "<div>\n",
       "<table border=\"1\" class=\"dataframe\">\n",
       "  <thead>\n",
       "    <tr style=\"text-align: right;\">\n",
       "      <th></th>\n",
       "      <th>countries</th>\n",
       "      <th>Gini</th>\n",
       "    </tr>\n",
       "  </thead>\n",
       "  <tbody>\n",
       "    <tr>\n",
       "      <th>0</th>\n",
       "      <td>Afghanistan</td>\n",
       "      <td>27.8</td>\n",
       "    </tr>\n",
       "    <tr>\n",
       "      <th>1</th>\n",
       "      <td>Lesotho</td>\n",
       "      <td>63.2</td>\n",
       "    </tr>\n",
       "    <tr>\n",
       "      <th>2</th>\n",
       "      <td>South_Africa</td>\n",
       "      <td>62.5</td>\n",
       "    </tr>\n",
       "  </tbody>\n",
       "</table>\n",
       "</div>"
      ],
      "text/plain": [
       "      countries  Gini\n",
       "0   Afghanistan  27.8\n",
       "1       Lesotho  63.2\n",
       "2  South_Africa  62.5"
      ]
     },
     "execution_count": 6,
     "metadata": {},
     "output_type": "execute_result"
    }
   ],
   "source": [
    "gini_df.head(3)"
   ]
  },
  {
   "cell_type": "code",
   "execution_count": 7,
   "metadata": {
    "collapsed": false
   },
   "outputs": [
    {
     "data": {
      "text/html": [
       "<div>\n",
       "<table border=\"1\" class=\"dataframe\">\n",
       "  <thead>\n",
       "    <tr style=\"text-align: right;\">\n",
       "      <th></th>\n",
       "      <th>countries</th>\n",
       "      <th>child-death</th>\n",
       "    </tr>\n",
       "  </thead>\n",
       "  <tbody>\n",
       "    <tr>\n",
       "      <th>0</th>\n",
       "      <td>Afghanistan</td>\n",
       "      <td>195.188070</td>\n",
       "    </tr>\n",
       "    <tr>\n",
       "      <th>1</th>\n",
       "      <td>Albania</td>\n",
       "      <td>10.526316</td>\n",
       "    </tr>\n",
       "    <tr>\n",
       "      <th>2</th>\n",
       "      <td>Algeria</td>\n",
       "      <td>18.090586</td>\n",
       "    </tr>\n",
       "  </tbody>\n",
       "</table>\n",
       "</div>"
      ],
      "text/plain": [
       "     countries  child-death\n",
       "0  Afghanistan   195.188070\n",
       "1      Albania    10.526316\n",
       "2      Algeria    18.090586"
      ]
     },
     "execution_count": 7,
     "metadata": {},
     "output_type": "execute_result"
    }
   ],
   "source": [
    "child_death_df.head(3)"
   ]
  },
  {
   "cell_type": "code",
   "execution_count": 8,
   "metadata": {
    "collapsed": false
   },
   "outputs": [
    {
     "data": {
      "text/html": [
       "<div>\n",
       "<table border=\"1\" class=\"dataframe\">\n",
       "  <thead>\n",
       "    <tr style=\"text-align: right;\">\n",
       "      <th></th>\n",
       "      <th>countries</th>\n",
       "      <th>Gini</th>\n",
       "      <th>child-death</th>\n",
       "    </tr>\n",
       "  </thead>\n",
       "  <tbody>\n",
       "    <tr>\n",
       "      <th>0</th>\n",
       "      <td>Afghanistan</td>\n",
       "      <td>27.8</td>\n",
       "      <td>195.188070</td>\n",
       "    </tr>\n",
       "    <tr>\n",
       "      <th>1</th>\n",
       "      <td>Lesotho</td>\n",
       "      <td>63.2</td>\n",
       "      <td>39.732421</td>\n",
       "    </tr>\n",
       "    <tr>\n",
       "      <th>2</th>\n",
       "      <td>Haiti</td>\n",
       "      <td>60.8</td>\n",
       "      <td>45.507790</td>\n",
       "    </tr>\n",
       "  </tbody>\n",
       "</table>\n",
       "</div>"
      ],
      "text/plain": [
       "     countries  Gini  child-death\n",
       "0  Afghanistan  27.8   195.188070\n",
       "1      Lesotho  63.2    39.732421\n",
       "2        Haiti  60.8    45.507790"
      ]
     },
     "execution_count": 8,
     "metadata": {},
     "output_type": "execute_result"
    }
   ],
   "source": [
    "df_intermediate = pd.merge(gini_df, child_death_df,  how='inner', on=['countries'])\n",
    "df_intermediate.head(3)\n"
   ]
  },
  {
   "cell_type": "code",
   "execution_count": 9,
   "metadata": {
    "collapsed": false
   },
   "outputs": [
    {
     "data": {
      "text/html": [
       "<div>\n",
       "<table border=\"1\" class=\"dataframe\">\n",
       "  <thead>\n",
       "    <tr style=\"text-align: right;\">\n",
       "      <th></th>\n",
       "      <th>countries</th>\n",
       "      <th>Gini</th>\n",
       "      <th>child-death</th>\n",
       "      <th>Continent</th>\n",
       "    </tr>\n",
       "  </thead>\n",
       "  <tbody>\n",
       "    <tr>\n",
       "      <th>0</th>\n",
       "      <td>Afghanistan</td>\n",
       "      <td>27.8</td>\n",
       "      <td>195.188070</td>\n",
       "      <td>Asia</td>\n",
       "    </tr>\n",
       "    <tr>\n",
       "      <th>1</th>\n",
       "      <td>Lesotho</td>\n",
       "      <td>63.2</td>\n",
       "      <td>39.732421</td>\n",
       "      <td>Africa</td>\n",
       "    </tr>\n",
       "    <tr>\n",
       "      <th>2</th>\n",
       "      <td>Haiti</td>\n",
       "      <td>60.8</td>\n",
       "      <td>45.507790</td>\n",
       "      <td>North America</td>\n",
       "    </tr>\n",
       "  </tbody>\n",
       "</table>\n",
       "</div>"
      ],
      "text/plain": [
       "     countries  Gini  child-death      Continent\n",
       "0  Afghanistan  27.8   195.188070           Asia\n",
       "1      Lesotho  63.2    39.732421         Africa\n",
       "2        Haiti  60.8    45.507790  North America"
      ]
     },
     "execution_count": 9,
     "metadata": {},
     "output_type": "execute_result"
    }
   ],
   "source": [
    "df_final = pd.merge(df_intermediate, countries_df,  how='left', on=['countries'])\n",
    "df_final.head(3)"
   ]
  },
  {
   "cell_type": "code",
   "execution_count": 10,
   "metadata": {
    "collapsed": false
   },
   "outputs": [
    {
     "data": {
      "text/html": [
       "<div>\n",
       "<table border=\"1\" class=\"dataframe\">\n",
       "  <thead>\n",
       "    <tr style=\"text-align: right;\">\n",
       "      <th></th>\n",
       "      <th>Continent</th>\n",
       "      <th>countries</th>\n",
       "      <th>Gini</th>\n",
       "      <th>child-death</th>\n",
       "    </tr>\n",
       "  </thead>\n",
       "  <tbody>\n",
       "    <tr>\n",
       "      <th>0</th>\n",
       "      <td>Asia</td>\n",
       "      <td>Afghanistan</td>\n",
       "      <td>27.8</td>\n",
       "      <td>195.188070</td>\n",
       "    </tr>\n",
       "    <tr>\n",
       "      <th>1</th>\n",
       "      <td>Africa</td>\n",
       "      <td>Lesotho</td>\n",
       "      <td>63.2</td>\n",
       "      <td>39.732421</td>\n",
       "    </tr>\n",
       "    <tr>\n",
       "      <th>2</th>\n",
       "      <td>North America</td>\n",
       "      <td>Haiti</td>\n",
       "      <td>60.8</td>\n",
       "      <td>45.507790</td>\n",
       "    </tr>\n",
       "  </tbody>\n",
       "</table>\n",
       "</div>"
      ],
      "text/plain": [
       "       Continent    countries  Gini  child-death\n",
       "0           Asia  Afghanistan  27.8   195.188070\n",
       "1         Africa      Lesotho  63.2    39.732421\n",
       "2  North America        Haiti  60.8    45.507790"
      ]
     },
     "execution_count": 10,
     "metadata": {},
     "output_type": "execute_result"
    }
   ],
   "source": [
    "df_final_cols = df_final.columns.tolist()\n",
    "df_final_cols = df_final_cols[-1:] + df_final_cols[:-1]\n",
    "df_final = df_final[df_final_cols]\n",
    "df_final.head(3)\n"
   ]
  },
  {
   "cell_type": "code",
   "execution_count": 11,
   "metadata": {
    "collapsed": false
   },
   "outputs": [],
   "source": [
    "import json\n",
    "from json import dumps\n",
    "\n",
    "json_dict = {}\n",
    "json_dict[\"name\"] = \"Json_file\"\n",
    "json_dict['children'] = []\n",
    "for grp, grp_data in df_final.groupby('Continent'):\n",
    "    #print ('grp_data',grp_data)\n",
    "    grp_dict = {}\n",
    "    #print (grp)\n",
    "    grp_dict['name'] = grp\n",
    "    grp_dict['children'] = []\n",
    "    for cat, cat_data in grp_data.groupby('countries'):\n",
    "        #print (\"cat\",cat)\n",
    "        #print (\"cat_data\",cat_data)\n",
    "        \n",
    "        cat_dict = {}\n",
    "         \n",
    "        cat_dict['name'] = cat\n",
    "        \n",
    "        cat_dict['children'] = []\n",
    "        #cat_dict['name'] = cat\n",
    "        for p, p_data in cat_data.groupby('Gini'):\n",
    "            cat_dict['gini'] =p//10\n",
    "            p_data = p_data.drop(['Continent', 'countries'], axis=1).set_index('Gini')\n",
    "            \n",
    "            for d in p_data.to_dict(orient='records'):\n",
    "                for key, value in d.items():\n",
    "                    d_prime ={}\n",
    "                    d_prime [\"name\"] =key\n",
    "                    d_prime [\"size\"] =value\n",
    "                    cat_dict['children'].append(d_prime)\n",
    "        grp_dict['children'].append(cat_dict)\n",
    "    json_dict['children'].append(grp_dict)\n",
    "json_out = dumps(json_dict)\n",
    "parsed = json.loads(json_out)    "
   ]
  },
  {
   "cell_type": "code",
   "execution_count": 12,
   "metadata": {
    "collapsed": false
   },
   "outputs": [
    {
     "data": {
      "text/plain": [
       "'{\"name\": \"Json_file\", \"children\": [{\"name\": \"Africa\", \"children\": [{\"name\": \"Algeria\", \"children\": [{\"name\": \"child-death\", \"size\": 18.0905859}], \"gini\": 3.0}, {\"name\": \"Angola\", \"children\": [{\"name\": \"child-death\", \"size\": 166.79505840000002}], \"gini\": 4.0}, {\"name\": \"Benin\", \"children\": [{\"name\": \"child-death\", \"size\": 82.27262885}], \"gini\": 3.0}, {\"name\": \"Botswana\", \"children\": [{\"name\": \"child-death\", \"size\": 14.95224178}], \"gini\": 6.0}, {\"name\": \"Burundi\", \"children\": [{\"name\": \"child-death\", \"size\": 119.3588838}], \"gini\": 4.0}, {\"name\": \"Cameroon\", \"children\": [{\"name\": \"child-death\", \"size\": 95.87426717}], \"gini\": 4.0}, {\"name\": \"Chad\", \"children\": [{\"name\": \"child-death\", \"size\": 153.56249340000002}], \"gini\": 4.0}, {\"name\": \"Djibouti\", \"children\": [{\"name\": \"child-death\", \"size\": 57.06724010000001}], \"gini\": 4.0}, {\"name\": \"Egypt\", \"children\": [{\"name\": \"child-death\", \"size\": 8.749506845}], \"gini\": 3.0}, {\"name\": \"Ethiopia\", \"children\": [{\"name\": \"child-death\", \"size\": 64.60820733}], \"gini\": 3.0}, {\"name\": \"Gabon\", \"children\": [{\"name\": \"child-death\", \"size\": 48.80515868}], \"gini\": 4.0}, {\"name\": \"Gambia\", \"children\": [{\"name\": \"child-death\", \"size\": 68.28597617}], \"gini\": 5.0}, {\"name\": \"Ghana\", \"children\": [{\"name\": \"child-death\", \"size\": 42.36796362}], \"gini\": 4.0}, {\"name\": \"Guinea\", \"children\": [{\"name\": \"child-death\", \"size\": 95.08097233}], \"gini\": 3.0}, {\"name\": \"Kenya\", \"children\": [{\"name\": \"child-death\", \"size\": 92.20992869}], \"gini\": 4.0}, {\"name\": \"Lesotho\", \"children\": [{\"name\": \"child-death\", \"size\": 39.73242118}], \"gini\": 6.0}, {\"name\": \"Liberia\", \"children\": [{\"name\": \"child-death\", \"size\": 95.60284663}], \"gini\": 3.0}, {\"name\": \"Madagascar\", \"children\": [{\"name\": \"child-death\", \"size\": 68.56762034}], \"gini\": 4.0}, {\"name\": \"Malawi\", \"children\": [{\"name\": \"child-death\", \"size\": 65.4054957}], \"gini\": 3.0}, {\"name\": \"Mali\", \"children\": [{\"name\": \"child-death\", \"size\": 132.644971}], \"gini\": 4.0}, {\"name\": \"Mauritania\", \"children\": [{\"name\": \"child-death\", \"size\": 69.59856246}], \"gini\": 3.0}, {\"name\": \"Mauritius\", \"children\": [{\"name\": \"child-death\", \"size\": 6.79858501}], \"gini\": 3.0}, {\"name\": \"Morocco\", \"children\": [{\"name\": \"child-death\", \"size\": 13.156449599999998}], \"gini\": 4.0}, {\"name\": \"Mozambique\", \"children\": [{\"name\": \"child-death\", \"size\": 83.12045992}], \"gini\": 4.0}, {\"name\": \"Namibia\", \"children\": [{\"name\": \"child-death\", \"size\": 23.68022335}], \"gini\": 5.0}, {\"name\": \"Niger\", \"children\": [{\"name\": \"child-death\", \"size\": 118.97829240000002}], \"gini\": 3.0}, {\"name\": \"Nigeria\", \"children\": [{\"name\": \"child-death\", \"size\": 129.1423748}], \"gini\": 4.0}, {\"name\": \"Rwanda\", \"children\": [{\"name\": \"child-death\", \"size\": 67.08816472}], \"gini\": 4.0}, {\"name\": \"Senegal\", \"children\": [{\"name\": \"child-death\", \"size\": 69.9624009}], \"gini\": 4.0}, {\"name\": \"Sudan\", \"children\": [{\"name\": \"child-death\", \"size\": 66.22498671}], \"gini\": 3.0}, {\"name\": \"Swaziland\", \"children\": [{\"name\": \"child-death\", \"size\": 63.78424658}], \"gini\": 5.0}, {\"name\": \"Tunisia\", \"children\": [{\"name\": \"child-death\", \"size\": 9.334197271}], \"gini\": 4.0}, {\"name\": \"Uganda\", \"children\": [{\"name\": \"child-death\", \"size\": 98.92176282}], \"gini\": 3.0}, {\"name\": \"Zambia\", \"children\": [{\"name\": \"child-death\", \"size\": 105.5453962}], \"gini\": 5.0}, {\"name\": \"Zimbabwe\", \"children\": [{\"name\": \"child-death\", \"size\": 65.72746336}], \"gini\": 5.0}]}, {\"name\": \"Asia\", \"children\": [{\"name\": \"Afghanistan\", \"children\": [{\"name\": \"child-death\", \"size\": 195.18806999999998}], \"gini\": 2.0}, {\"name\": \"Armenia\", \"children\": [{\"name\": \"child-death\", \"size\": 9.871353968}], \"gini\": 3.0}, {\"name\": \"Azerbaijan\", \"children\": [{\"name\": \"child-death\", \"size\": 18.46599481}], \"gini\": 3.0}, {\"name\": \"Bangladesh\", \"children\": [{\"name\": \"child-death\", \"size\": 20.13476439}], \"gini\": 3.0}, {\"name\": \"Bhutan\", \"children\": [{\"name\": \"child-death\", \"size\": 45.84294046}], \"gini\": 3.0}, {\"name\": \"Cambodia\", \"children\": [{\"name\": \"child-death\", \"size\": 58.36977581}], \"gini\": 3.0}, {\"name\": \"China\", \"children\": [{\"name\": \"child-death\", \"size\": 9.020645774}], \"gini\": 4.0}, {\"name\": \"Cyprus\", \"children\": [{\"name\": \"child-death\", \"size\": 2.116722105}], \"gini\": 3.0}, {\"name\": \"Georgia\", \"children\": [{\"name\": \"child-death\", \"size\": 11.88331353}], \"gini\": 4.0}, {\"name\": \"India\", \"children\": [{\"name\": \"child-death\", \"size\": 30.69389699}], \"gini\": 3.0}, {\"name\": \"Indonesia\", \"children\": [{\"name\": \"child-death\", \"size\": 22.01450429}], \"gini\": 3.0}, {\"name\": \"Iran\", \"children\": [{\"name\": \"child-death\", \"size\": 13.99760461}], \"gini\": 4.0}, {\"name\": \"Israel\", \"children\": [{\"name\": \"child-death\", \"size\": 2.40900123}], \"gini\": 4.0}, {\"name\": \"Japan\", \"children\": [{\"name\": \"child-death\", \"size\": 2.281674066}], \"gini\": 3.0}, {\"name\": \"Jordan\", \"children\": [{\"name\": \"child-death\", \"size\": 6.86367605}], \"gini\": 3.0}, {\"name\": \"Kazakhstan\", \"children\": [{\"name\": \"child-death\", \"size\": 15.1019174}], \"gini\": 2.0}, {\"name\": \"Kyrgyzstan\", \"children\": [{\"name\": \"child-death\", \"size\": 21.10409859}], \"gini\": 3.0}, {\"name\": \"Laos\", \"children\": [{\"name\": \"child-death\", \"size\": 39.85818777}], \"gini\": 3.0}, {\"name\": \"Malaysia\", \"children\": [{\"name\": \"child-death\", \"size\": 3.216298333}], \"gini\": 4.0}, {\"name\": \"Maldives\", \"children\": [{\"name\": \"child-death\", \"size\": 12.751091699999998}], \"gini\": 3.0}, {\"name\": \"Mongolia\", \"children\": [{\"name\": \"child-death\", \"size\": 27.23719731}], \"gini\": 3.0}, {\"name\": \"Nepal\", \"children\": [{\"name\": \"child-death\", \"size\": 19.46611674}], \"gini\": 3.0}, {\"name\": \"Pakistan\", \"children\": [{\"name\": \"child-death\", \"size\": 33.86515584}], \"gini\": 2.0}, {\"name\": \"Philippines\", \"children\": [{\"name\": \"child-death\", \"size\": 17.87815642}], \"gini\": 4.0}, {\"name\": \"Singapore\", \"children\": [{\"name\": \"child-death\", \"size\": 1.694231545}], \"gini\": 4.0}, {\"name\": \"Tajikistan\", \"children\": [{\"name\": \"child-death\", \"size\": 40.00311147}], \"gini\": 3.0}, {\"name\": \"Thailand\", \"children\": [{\"name\": \"child-death\", \"size\": 4.160426198}], \"gini\": 4.0}, {\"name\": \"Turkey\", \"children\": [{\"name\": \"child-death\", \"size\": 7.82662298}], \"gini\": 4.0}, {\"name\": \"Turkmenistan\", \"children\": [{\"name\": \"child-death\", \"size\": 27.23485773}], \"gini\": 4.0}, {\"name\": \"Uzbekistan\", \"children\": [{\"name\": \"child-death\", \"size\": 18.63030732}], \"gini\": 3.0}, {\"name\": \"Vietnam\", \"children\": [{\"name\": \"child-death\", \"size\": 5.25792555}], \"gini\": 3.0}]}, {\"name\": \"Australia\", \"children\": [{\"name\": \"Australia\", \"children\": [{\"name\": \"child-death\", \"size\": 2.26730221}], \"gini\": 3.0}]}, {\"name\": \"Central America\", \"children\": [{\"name\": \"Guatemala\", \"children\": [{\"name\": \"child-death\", \"size\": 23.52086104}], \"gini\": 5.0}, {\"name\": \"Honduras\", \"children\": [{\"name\": \"child-death\", \"size\": 15.03401259}], \"gini\": 5.0}, {\"name\": \"Nicaragua\", \"children\": [{\"name\": \"child-death\", \"size\": 14.88890477}], \"gini\": 4.0}, {\"name\": \"Panama\", \"children\": [{\"name\": \"child-death\", \"size\": 13.10180631}], \"gini\": 5.0}]}, {\"name\": \"Europe\", \"children\": [{\"name\": \"Albania\", \"children\": [{\"name\": \"child-death\", \"size\": 10.52631579}], \"gini\": 2.0}, {\"name\": \"Austria\", \"children\": [{\"name\": \"child-death\", \"size\": 1.9377801209999999}], \"gini\": 2.0}, {\"name\": \"Belarus\", \"children\": [{\"name\": \"child-death\", \"size\": 6.417112298999999}], \"gini\": 2.0}, {\"name\": \"Belgium\", \"children\": [{\"name\": \"child-death\", \"size\": 2.4800753269999998}], \"gini\": 2.0}, {\"name\": \"Bulgaria\", \"children\": [{\"name\": \"child-death\", \"size\": 6.369426752000001}], \"gini\": 3.0}, {\"name\": \"Croatia\", \"children\": [{\"name\": \"child-death\", \"size\": 2.0867915580000003}], \"gini\": 3.0}, {\"name\": \"Denmark\", \"children\": [{\"name\": \"child-death\", \"size\": 1.7808724669999998}], \"gini\": 2.0}, {\"name\": \"Estonia\", \"children\": [{\"name\": \"child-death\", \"size\": 2.886908498}], \"gini\": 3.0}, {\"name\": \"Finland\", \"children\": [{\"name\": \"child-death\", \"size\": 1.508218946}], \"gini\": 2.0}, {\"name\": \"France\", \"children\": [{\"name\": \"child-death\", \"size\": 1.875653486}], \"gini\": 3.0}, {\"name\": \"Germany\", \"children\": [{\"name\": \"child-death\", \"size\": 1.8876651519999998}], \"gini\": 2.0}, {\"name\": \"Greece\", \"children\": [{\"name\": \"child-death\", \"size\": 1.715249789}], \"gini\": 3.0}, {\"name\": \"Hungary\", \"children\": [{\"name\": \"child-death\", \"size\": 3.08322684}], \"gini\": 3.0}, {\"name\": \"Iceland\", \"children\": [{\"name\": \"child-death\", \"size\": 1.730478045}], \"gini\": 2.0}, {\"name\": \"Ireland\", \"children\": [{\"name\": \"child-death\", \"size\": 2.257565014}], \"gini\": 3.0}, {\"name\": \"Italy\", \"children\": [{\"name\": \"child-death\", \"size\": 1.985711669}], \"gini\": 3.0}, {\"name\": \"Latvia\", \"children\": [{\"name\": \"child-death\", \"size\": 4.064161875}], \"gini\": 3.0}, {\"name\": \"Lithuania\", \"children\": [{\"name\": \"child-death\", \"size\": 3.819709702}], \"gini\": 3.0}, {\"name\": \"Luxembourg\", \"children\": [{\"name\": \"child-death\", \"size\": 1.65077036}], \"gini\": 3.0}, {\"name\": \"Malta\", \"children\": [{\"name\": \"child-death\", \"size\": 4.891304348}], \"gini\": 2.0}, {\"name\": \"Moldova\", \"children\": [{\"name\": \"child-death\", \"size\": 9.904075137000001}], \"gini\": 2.0}, {\"name\": \"Montenegro\", \"children\": [{\"name\": \"child-death\", \"size\": 3.428722142}], \"gini\": 2.0}, {\"name\": \"Netherlands\", \"children\": [{\"name\": \"child-death\", \"size\": 1.7776673109999999}], \"gini\": 2.0}, {\"name\": \"Norway\", \"children\": [{\"name\": \"child-death\", \"size\": 1.8942981630000002}], \"gini\": 2.0}, {\"name\": \"Poland\", \"children\": [{\"name\": \"child-death\", \"size\": 2.91214666}], \"gini\": 3.0}, {\"name\": \"Portugal\", \"children\": [{\"name\": \"child-death\", \"size\": 1.81587071}], \"gini\": 3.0}, {\"name\": \"Romania\", \"children\": [{\"name\": \"child-death\", \"size\": 6.549472157}], \"gini\": 2.0}, {\"name\": \"Russia\", \"children\": [{\"name\": \"child-death\", \"size\": 4.898538138999999}], \"gini\": 4.0}, {\"name\": \"Serbia\", \"children\": [{\"name\": \"child-death\", \"size\": 2.829274256}], \"gini\": 3.0}, {\"name\": \"Slovenia\", \"children\": [{\"name\": \"child-death\", \"size\": 1.0270631129999999}], \"gini\": 2.0}, {\"name\": \"Spain\", \"children\": [{\"name\": \"child-death\", \"size\": 2.232956153}], \"gini\": 3.0}, {\"name\": \"Sweden\", \"children\": [{\"name\": \"child-death\", \"size\": 1.5378449669999998}], \"gini\": 2.0}, {\"name\": \"Switzerland\", \"children\": [{\"name\": \"child-death\", \"size\": 1.653667007}], \"gini\": 2.0}, {\"name\": \"Ukraine\", \"children\": [{\"name\": \"child-death\", \"size\": 7.553347561}], \"gini\": 2.0}]}, {\"name\": \"North America\", \"children\": [{\"name\": \"Canada\", \"children\": [{\"name\": \"child-death\", \"size\": 2.526160774}], \"gini\": 3.0}, {\"name\": \"Haiti\", \"children\": [{\"name\": \"child-death\", \"size\": 45.50778962}], \"gini\": 6.0}, {\"name\": \"Jamaica\", \"children\": [{\"name\": \"child-death\", \"size\": 22.84351145}], \"gini\": 4.0}, {\"name\": \"Mexico\", \"children\": [{\"name\": \"child-death\", \"size\": 10.56017651}], \"gini\": 4.0}]}, {\"name\": \"South America\", \"children\": [{\"name\": \"Argentina\", \"children\": [{\"name\": \"child-death\", \"size\": 6.306836977000001}], \"gini\": 4.0}, {\"name\": \"Bolivia\", \"children\": [{\"name\": \"child-death\", \"size\": 29.16060977}], \"gini\": 4.0}, {\"name\": \"Brazil\", \"children\": [{\"name\": \"child-death\", \"size\": 10.79371644}], \"gini\": 5.0}, {\"name\": \"Chile\", \"children\": [{\"name\": \"child-death\", \"size\": 4.23136785}], \"gini\": 5.0}, {\"name\": \"Colombia\", \"children\": [{\"name\": \"child-death\", \"size\": 7.683438418}], \"gini\": 5.0}, {\"name\": \"Ecuador\", \"children\": [{\"name\": \"child-death\", \"size\": 13.64482853}], \"gini\": 4.0}, {\"name\": \"Guyana\", \"children\": [{\"name\": \"child-death\", \"size\": 37.51284687}], \"gini\": 4.0}, {\"name\": \"Paraguay\", \"children\": [{\"name\": \"child-death\", \"size\": 12.87690486}], \"gini\": 5.0}, {\"name\": \"Peru\", \"children\": [{\"name\": \"child-death\", \"size\": 11.69388013}], \"gini\": 4.0}, {\"name\": \"Uruguay\", \"children\": [{\"name\": \"child-death\", \"size\": 7.864008261}], \"gini\": 4.0}, {\"name\": \"Venezuela\", \"children\": [{\"name\": \"child-death\", \"size\": 8.158389374}], \"gini\": 3.0}]}]}'"
      ]
     },
     "execution_count": 12,
     "metadata": {},
     "output_type": "execute_result"
    }
   ],
   "source": [
    "json_out"
   ]
  },
  {
   "cell_type": "code",
   "execution_count": 17,
   "metadata": {
    "collapsed": false
   },
   "outputs": [],
   "source": [
    "import io\n",
    "path = os.path.join(os.pardir, \"data/gapminder\")\n",
    "# process Unicode text\n",
    "with io.open(path+'/'+'gini_child_death_.json','w',encoding='utf8') as f:\n",
    "    json.dump(parsed, f)"
   ]
  },
  {
   "cell_type": "code",
   "execution_count": 14,
   "metadata": {
    "collapsed": false
   },
   "outputs": [
    {
     "data": {
      "text/plain": [
       "'../data/gapminder'"
      ]
     },
     "execution_count": 14,
     "metadata": {},
     "output_type": "execute_result"
    }
   ],
   "source": [
    "path = os.path.join(os.pardir, \"data/gapminder\")"
   ]
  },
  {
   "cell_type": "code",
   "execution_count": null,
   "metadata": {
    "collapsed": true
   },
   "outputs": [],
   "source": []
  }
 ],
 "metadata": {
  "anaconda-cloud": {},
  "kernelspec": {
   "display_name": "Python 3",
   "language": "python",
   "name": "python3"
  },
  "language_info": {
   "codemirror_mode": {
    "name": "ipython",
    "version": 3
   },
   "file_extension": ".py",
   "mimetype": "text/x-python",
   "name": "python",
   "nbconvert_exporter": "python",
   "pygments_lexer": "ipython3",
   "version": "3.6.0"
  }
 },
 "nbformat": 4,
 "nbformat_minor": 1
}
